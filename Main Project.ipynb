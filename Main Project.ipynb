{
 "cells": [
  {
   "cell_type": "code",
   "execution_count": 15,
   "metadata": {
    "collapsed": true
   },
   "outputs": [],
   "source": [
    "# -*- coding: utf-8 -*-\n",
    "import pandas as pd\n",
    "import numpy as np\n",
    "import matplotlib.pyplot as plt\n",
    "import sklearn\n",
    "import scipy.sparse as sparse"
   ]
  },
  {
   "cell_type": "code",
   "execution_count": 16,
   "metadata": {
    "collapsed": false
   },
   "outputs": [
    {
     "data": {
      "text/html": [
       "<div>\n",
       "<table border=\"1\" class=\"dataframe\">\n",
       "  <thead>\n",
       "    <tr style=\"text-align: right;\">\n",
       "      <th></th>\n",
       "      <th>userId</th>\n",
       "      <th>movieId</th>\n",
       "      <th>tag</th>\n",
       "      <th>timestamp</th>\n",
       "    </tr>\n",
       "  </thead>\n",
       "  <tbody>\n",
       "    <tr>\n",
       "      <th>0</th>\n",
       "      <td>15</td>\n",
       "      <td>339</td>\n",
       "      <td>sandra 'boring' bullock</td>\n",
       "      <td>1138537770</td>\n",
       "    </tr>\n",
       "    <tr>\n",
       "      <th>1</th>\n",
       "      <td>15</td>\n",
       "      <td>1955</td>\n",
       "      <td>dentist</td>\n",
       "      <td>1193435061</td>\n",
       "    </tr>\n",
       "    <tr>\n",
       "      <th>2</th>\n",
       "      <td>15</td>\n",
       "      <td>7478</td>\n",
       "      <td>Cambodia</td>\n",
       "      <td>1170560997</td>\n",
       "    </tr>\n",
       "    <tr>\n",
       "      <th>3</th>\n",
       "      <td>15</td>\n",
       "      <td>32892</td>\n",
       "      <td>Russian</td>\n",
       "      <td>1170626366</td>\n",
       "    </tr>\n",
       "    <tr>\n",
       "      <th>4</th>\n",
       "      <td>15</td>\n",
       "      <td>34162</td>\n",
       "      <td>forgettable</td>\n",
       "      <td>1141391765</td>\n",
       "    </tr>\n",
       "  </tbody>\n",
       "</table>\n",
       "</div>"
      ],
      "text/plain": [
       "   userId  movieId                      tag   timestamp\n",
       "0      15      339  sandra 'boring' bullock  1138537770\n",
       "1      15     1955                  dentist  1193435061\n",
       "2      15     7478                 Cambodia  1170560997\n",
       "3      15    32892                  Russian  1170626366\n",
       "4      15    34162              forgettable  1141391765"
      ]
     },
     "execution_count": 16,
     "metadata": {},
     "output_type": "execute_result"
    }
   ],
   "source": [
    "#Reading users file:\n",
    "users = pd.read_csv('//home/ink/Documents/2016_2017/Analyse de Donnée/Projet_Analyse/tags.csv', sep = \",\",\n",
    "encoding='latin-1')\n",
    "users.head()"
   ]
  },
  {
   "cell_type": "code",
   "execution_count": 17,
   "metadata": {
    "collapsed": false
   },
   "outputs": [
    {
     "data": {
      "text/plain": [
       "(163949, 671)"
      ]
     },
     "execution_count": 17,
     "metadata": {},
     "output_type": "execute_result"
    }
   ],
   "source": [
    "df_movie.max(), df_users.max()"
   ]
  },
  {
   "cell_type": "code",
   "execution_count": 36,
   "metadata": {
    "collapsed": false
   },
   "outputs": [
    {
     "name": "stdout",
     "output_type": "stream",
     "text": [
      "[ 2.5  3.   3.  ...,  4.   2.5  3.5]\n",
      "  (1, 31)\t2.5\n",
      "  (1, 1029)\t3.0\n",
      "  (1, 1061)\t3.0\n",
      "  (1, 1129)\t2.0\n",
      "  (1, 1172)\t4.0\n",
      "  (1, 1263)\t2.0\n",
      "  (1, 1287)\t2.0\n",
      "  (1, 1293)\t2.0\n",
      "  (1, 1339)\t3.5\n",
      "  (1, 1343)\t2.0\n",
      "  (1, 1371)\t2.5\n",
      "  (1, 1405)\t1.0\n",
      "  (1, 1953)\t4.0\n",
      "  (1, 2105)\t4.0\n",
      "  (1, 2150)\t3.0\n",
      "  (1, 2193)\t2.0\n",
      "  (1, 2294)\t2.0\n",
      "  (1, 2455)\t2.5\n",
      "  (1, 2968)\t1.0\n",
      "  (1, 3671)\t3.0\n",
      "  (2, 10)\t4.0\n",
      "  (2, 17)\t5.0\n",
      "  (2, 39)\t5.0\n",
      "  (2, 47)\t4.0\n",
      "  (2, 50)\t4.0\n",
      "  :\t:\n",
      "  (671, 4896)\t5.0\n",
      "  (671, 4963)\t4.5\n",
      "  (671, 4973)\t4.5\n",
      "  (671, 4993)\t5.0\n",
      "  (671, 4995)\t4.0\n",
      "  (671, 5010)\t2.0\n",
      "  (671, 5218)\t2.0\n",
      "  (671, 5299)\t3.0\n",
      "  (671, 5349)\t4.0\n",
      "  (671, 5377)\t4.0\n",
      "  (671, 5445)\t4.5\n",
      "  (671, 5464)\t3.0\n",
      "  (671, 5669)\t4.0\n",
      "  (671, 5816)\t4.0\n",
      "  (671, 5902)\t3.5\n",
      "  (671, 5952)\t5.0\n",
      "  (671, 5989)\t4.0\n",
      "  (671, 5991)\t4.5\n",
      "  (671, 5995)\t4.0\n",
      "  (671, 6212)\t2.5\n",
      "  (671, 6268)\t2.5\n",
      "  (671, 6269)\t4.0\n",
      "  (671, 6365)\t4.0\n",
      "  (671, 6385)\t2.5\n",
      "  (671, 6565)\t3.5\n"
     ]
    }
   ],
   "source": [
    "ratings = pd.read_csv(\"/home/ink/Documents/2016_2017/Analyse de Donnée/Projet_Analyse/ratings.csv\", sep = \",\",\n",
    "encoding='latin-1')\n",
    "df = pd.DataFrame(ratings)\n",
    "df_movie = df.movieId\n",
    "df_users = df.userId\n",
    "df_rating = df.rating\n",
    "\n",
    "    \n",
    "shape = tuple(df.max(axis=0)[:2]+1)\n",
    "coo = sparse.coo_matrix((df.values[:, 2], (df.values[:, 0], df.values[:, 1])), shape=shape)\n",
    "print coo"
   ]
  },
  {
   "cell_type": "code",
   "execution_count": 12,
   "metadata": {
    "collapsed": false
   },
   "outputs": [],
   "source": [
    "items = pd.read_csv('/home/ink/Documents/2016_2017/Analyse de Donnée/Projet_Analyse/movies.csv', sep=',',\n",
    "encoding='latin-1')"
   ]
  },
  {
   "cell_type": "code",
   "execution_count": null,
   "metadata": {
    "collapsed": true
   },
   "outputs": [],
   "source": []
  }
 ],
 "metadata": {
  "kernelspec": {
   "display_name": "Python 2",
   "language": "python",
   "name": "python2"
  },
  "language_info": {
   "codemirror_mode": {
    "name": "ipython",
    "version": 2
   },
   "file_extension": ".py",
   "mimetype": "text/x-python",
   "name": "python",
   "nbconvert_exporter": "python",
   "pygments_lexer": "ipython2",
   "version": "2.7.10"
  }
 },
 "nbformat": 4,
 "nbformat_minor": 0
}
