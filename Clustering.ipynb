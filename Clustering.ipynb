{
 "cells": [
  {
   "cell_type": "code",
   "execution_count": 2,
   "metadata": {
    "collapsed": true
   },
   "outputs": [],
   "source": [
    "# -*- coding: utf-8 -*-\n",
    "import pandas as pd\n",
    "import numpy as np\n",
    "import matplotlib.pyplot as plt\n",
    "from sklearn.decomposition import NMF\n",
    "import scipy.sparse as sparse\n",
    "from sklearn.cluster import KMeans\n",
    "import collections"
   ]
  },
  {
   "cell_type": "code",
   "execution_count": 5,
   "metadata": {
    "collapsed": true
   },
   "outputs": [],
   "source": [
    "#Reading users file:\n",
    "movies = pd.read_csv('//home/ink/Documents/2016_2017/Analyse de Donnée/Projet_Analyse/movies.csv', sep = \",\",\n",
    "encoding='latin-1')\n",
    "#Reading ratings file:\n",
    "ratings = pd.read_csv(\"/home/ink/Documents/2016_2017/Analyse de Donnée/Projet_Analyse/NouveauRatings.csv\", sep = \",\",\n",
    "encoding='latin-1')\n",
    "ratings = ratings.sort_values('movieId').reset_index()\n",
    "\n",
    "df = pd.DataFrame(ratings)\n",
    "df_movie = df.movies_matrix\n",
    "df_users = df.userId\n",
    "df_rating = df.rating\n",
    "movie_index = range(9066)\n",
    "\n",
    "shape = len(df_movie.unique()), len(df_users.unique())\n",
    "\n",
    "coo = sparse.csr_matrix((df_rating, ((df_movie.values),(df_users.values-1))), shape=shape)\n",
    "coo = coo.T\n",
    "\n"
   ]
  },
  {
   "cell_type": "code",
   "execution_count": 6,
   "metadata": {
    "collapsed": false
   },
   "outputs": [],
   "source": [
    "dict_x = collections.defaultdict(list)\n",
    "labeler = KMeans(n_clusters=150, random_state=0).fit(coo)\n",
    "labeler.labels_\n",
    "# convert coo to csr format \n",
    "# note: Kmeans currently only works with CSR type sparse matrix \n",
    "\n",
    "#faire un dictionnaire de film avec en clé le label\n",
    "# print cluster assignments for each row \n",
    "for (row, label) in enumerate(labeler.labels_):\n",
    "    dict_x[str(label)].append(row)\n",
    "#print dict_x"
   ]
  },
  {
   "cell_type": "code",
   "execution_count": null,
   "metadata": {
    "collapsed": true
   },
   "outputs": [],
   "source": [
    "for cluster, movies_index in dict_x.items():\n",
    "    print (cluster, [get_movie(matrix_movies(index)) for index in movies_index])"
   ]
  }
 ],
 "metadata": {
  "kernelspec": {
   "display_name": "Python 2",
   "language": "python",
   "name": "python2"
  },
  "language_info": {
   "codemirror_mode": {
    "name": "ipython",
    "version": 2
   },
   "file_extension": ".py",
   "mimetype": "text/x-python",
   "name": "python",
   "nbconvert_exporter": "python",
   "pygments_lexer": "ipython2",
   "version": "2.7.10"
  }
 },
 "nbformat": 4,
 "nbformat_minor": 0
}
