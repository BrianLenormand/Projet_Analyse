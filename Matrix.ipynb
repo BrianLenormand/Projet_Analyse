{
 "cells": [
  {
   "cell_type": "code",
   "execution_count": 2,
   "metadata": {
    "collapsed": true
   },
   "outputs": [],
   "source": [
    "# -*- coding: utf-8 -*-\n",
    "import pandas as pd\n",
    "import numpy as np\n",
    "import matplotlib.pyplot as plt\n",
    "from sklearn.decomposition import NMF\n",
    "import scipy\n",
    "import scipy.sparse as sparse\n",
    "from sklearn.cluster import KMeans\n",
    "import collections"
   ]
  },
  {
   "cell_type": "code",
   "execution_count": 3,
   "metadata": {
    "collapsed": false
   },
   "outputs": [],
   "source": [
    "def binary(x):\n",
    "    if x <= 2.5:\n",
    "        return 0\n",
    "    else:\n",
    "        return 1\n",
    "\n",
    "def get_movie(id):\n",
    "    return unicode(movies[movies['movieId']==id]['title'].values[0])\n",
    "\n",
    "def movies_matrix(Id): \n",
    "    return ratings[ratings[\"movieId\"]==Id][\"movies_matrix\"].values[0]\n",
    "\n",
    "def matrix_movies(index):\n",
    "    return ratings[ratings[\"movies_matrix\"]==index][\"movieId\"].values[0]"
   ]
  },
  {
   "cell_type": "code",
   "execution_count": 4,
   "metadata": {
    "collapsed": false
   },
   "outputs": [
    {
     "data": {
      "text/html": [
       "<div>\n",
       "<table border=\"1\" class=\"dataframe\">\n",
       "  <thead>\n",
       "    <tr style=\"text-align: right;\">\n",
       "      <th></th>\n",
       "      <th>movieId</th>\n",
       "      <th>title</th>\n",
       "      <th>genres</th>\n",
       "    </tr>\n",
       "  </thead>\n",
       "  <tbody>\n",
       "    <tr>\n",
       "      <th>0</th>\n",
       "      <td>1</td>\n",
       "      <td>Toy Story (1995)</td>\n",
       "      <td>Adventure|Animation|Children|Comedy|Fantasy</td>\n",
       "    </tr>\n",
       "    <tr>\n",
       "      <th>1</th>\n",
       "      <td>2</td>\n",
       "      <td>Jumanji (1995)</td>\n",
       "      <td>Adventure|Children|Fantasy</td>\n",
       "    </tr>\n",
       "    <tr>\n",
       "      <th>2</th>\n",
       "      <td>3</td>\n",
       "      <td>Grumpier Old Men (1995)</td>\n",
       "      <td>Comedy|Romance</td>\n",
       "    </tr>\n",
       "    <tr>\n",
       "      <th>3</th>\n",
       "      <td>4</td>\n",
       "      <td>Waiting to Exhale (1995)</td>\n",
       "      <td>Comedy|Drama|Romance</td>\n",
       "    </tr>\n",
       "    <tr>\n",
       "      <th>4</th>\n",
       "      <td>5</td>\n",
       "      <td>Father of the Bride Part II (1995)</td>\n",
       "      <td>Comedy</td>\n",
       "    </tr>\n",
       "  </tbody>\n",
       "</table>\n",
       "</div>"
      ],
      "text/plain": [
       "   movieId                               title  \\\n",
       "0        1                    Toy Story (1995)   \n",
       "1        2                      Jumanji (1995)   \n",
       "2        3             Grumpier Old Men (1995)   \n",
       "3        4            Waiting to Exhale (1995)   \n",
       "4        5  Father of the Bride Part II (1995)   \n",
       "\n",
       "                                        genres  \n",
       "0  Adventure|Animation|Children|Comedy|Fantasy  \n",
       "1                   Adventure|Children|Fantasy  \n",
       "2                               Comedy|Romance  \n",
       "3                         Comedy|Drama|Romance  \n",
       "4                                       Comedy  "
      ]
     },
     "execution_count": 4,
     "metadata": {},
     "output_type": "execute_result"
    }
   ],
   "source": [
    "#Reading users file:\n",
    "movies = pd.read_csv('//home/ink/Documents/2016_2017/Analyse de Donnée/Projet_Analyse/movies.csv', sep = \",\",\n",
    "encoding='latin-1')\n",
    "#Reading ratings file:\n",
    "ratings = pd.read_csv(\"/home/ink/Documents/2016_2017/Analyse de Donnée/Projet_Analyse/NouveauRatings.csv\", sep = \",\",\n",
    "encoding='latin-1')\n",
    "ratings = ratings.sort_values('movieId').reset_index()\n",
    "\n",
    "movies.head()"
   ]
  },
  {
   "cell_type": "code",
   "execution_count": 9,
   "metadata": {
    "collapsed": false
   },
   "outputs": [
    {
     "name": "stdout",
     "output_type": "stream",
     "text": [
      "4.0\n"
     ]
    }
   ],
   "source": [
    "df = pd.DataFrame(ratings)\n",
    "df_movie = df.movies_matrix\n",
    "df_users = df.userId\n",
    "df_rating = df.rating\n",
    "rating = []\n",
    "movie_index = range(9066)\n",
    "\n",
    "shape = len(df_movie.unique()), len(df_users.unique())\n",
    "\n",
    "#df_movie.max(), df_movie.shape, df_movie.unique().shape"
   ]
  },
  {
   "cell_type": "code",
   "execution_count": 17,
   "metadata": {
    "collapsed": false
   },
   "outputs": [
    {
     "name": "stdout",
     "output_type": "stream",
     "text": [
      "  (67, 0)\t4.0\n",
      "  (121, 0)\t3.0\n",
      "  (427, 0)\t5.0\n",
      "  (623, 0)\t5.0\n",
      "  (425, 0)\t3.0\n",
      "  (120, 0)\t4.0\n",
      "  (424, 0)\t4.5\n",
      "  (421, 0)\t5.0\n",
      "  (462, 0)\t3.0\n",
      "  (622, 0)\t4.5\n",
      "  (420, 0)\t2.0\n",
      "  (629, 0)\t4.0\n",
      "  (418, 0)\t4.5\n",
      "  (186, 0)\t4.0\n",
      "  (456, 0)\t1.5\n",
      "  (168, 0)\t4.0\n",
      "  (66, 0)\t3.0\n",
      "  (172, 0)\t4.0\n",
      "  (12, 0)\t5.0\n",
      "  (141, 0)\t4.0\n",
      "  (653, 0)\t5.0\n",
      "  (446, 0)\t3.0\n",
      "  (447, 0)\t3.0\n",
      "  (68, 0)\t5.0\n",
      "  (174, 0)\t4.0\n",
      "  :\t:\n",
      "  (14, 9044)\t4.0\n",
      "  (72, 9044)\t3.5\n",
      "  (14, 9045)\t0.5\n",
      "  (14, 9046)\t1.0\n",
      "  (14, 9047)\t2.5\n",
      "  (61, 9048)\t4.0\n",
      "  (286, 9048)\t4.5\n",
      "  (623, 9049)\t1.5\n",
      "  (14, 9050)\t1.0\n",
      "  (286, 9050)\t4.0\n",
      "  (14, 9051)\t2.0\n",
      "  (14, 9052)\t4.0\n",
      "  (55, 9053)\t5.0\n",
      "  (546, 9054)\t3.5\n",
      "  (546, 9055)\t4.0\n",
      "  (546, 9056)\t2.5\n",
      "  (14, 9057)\t0.5\n",
      "  (72, 9058)\t3.0\n",
      "  (623, 9059)\t1.0\n",
      "  (623, 9060)\t1.5\n",
      "  (286, 9061)\t5.0\n",
      "  (72, 9062)\t4.5\n",
      "  (610, 9063)\t5.0\n",
      "  (610, 9064)\t3.0\n",
      "  (546, 9065)\t5.0\n"
     ]
    }
   ],
   "source": [
    "coo = sparse.coo_matrix((df_rating, ((df_movie.values),(df_users.values-1))), shape=shape)\n",
    "coo = coo.T\n",
    "print coo\n",
    "# Notre matrice sur laquelle nous allons travailler"
   ]
  }
 ],
 "metadata": {
  "kernelspec": {
   "display_name": "Python 2",
   "language": "python",
   "name": "python2"
  },
  "language_info": {
   "codemirror_mode": {
    "name": "ipython",
    "version": 2
   },
   "file_extension": ".py",
   "mimetype": "text/x-python",
   "name": "python",
   "nbconvert_exporter": "python",
   "pygments_lexer": "ipython2",
   "version": "2.7.10"
  }
 },
 "nbformat": 4,
 "nbformat_minor": 0
}
