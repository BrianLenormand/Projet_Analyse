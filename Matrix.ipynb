{
 "cells": [
  {
   "cell_type": "code",
   "execution_count": 1,
   "metadata": {
    "collapsed": true
   },
   "outputs": [],
   "source": [
    "# -*- coding: utf-8 -*-\n",
    "import pandas as pd\n",
    "import numpy as np\n",
    "import matplotlib.pyplot as plt\n",
    "from sklearn.decomposition import NMF\n",
    "import scipy.sparse as sparse\n",
    "from sklearn.cluster import KMeans\n",
    "import collections"
   ]
  },
  {
   "cell_type": "code",
   "execution_count": 7,
   "metadata": {
    "collapsed": true
   },
   "outputs": [],
   "source": [
    "def binary(x):\n",
    "    if x <= 2.5:\n",
    "        return 0\n",
    "    else:\n",
    "        return 1\n",
    "\n",
    "def get_movie(id):\n",
    "    return movies[movies['movieId']==id]['title']"
   ]
  },
  {
   "cell_type": "code",
   "execution_count": 2,
   "metadata": {
    "collapsed": true
   },
   "outputs": [],
   "source": [
    "#Reading users file:\n",
    "movies = pd.read_csv('//home/ink/Documents/2016_2017/Analyse de Donnée/Projet_Analyse/movies.csv', sep = \",\",\n",
    "encoding='latin-1')\n",
    "#Reading ratings file:\n",
    "ratings = pd.read_csv(\"/home/ink/Documents/2016_2017/Analyse de Donnée/Projet_Analyse/ratings.csv\", sep = \",\",\n",
    "encoding='latin-1')\n",
    "ratings = ratings.sort_values('movieId').reset_index()\n",
    "ratings['movies_matrix'] = 0\n",
    "#Reading movies file:\n",
    "movies = pd.read_csv('//home/ink/Documents/2016_2017/Analyse de Donnée/Projet_Analyse/movies.csv', sep = \",\",\n",
    "encoding='latin-1')"
   ]
  },
  {
   "cell_type": "code",
   "execution_count": 3,
   "metadata": {
    "collapsed": false
   },
   "outputs": [
    {
     "name": "stdout",
     "output_type": "stream",
     "text": [
      "(9066, 671)\n"
     ]
    }
   ],
   "source": [
    "df = pd.DataFrame(ratings)\n",
    "df_movie = df.movieId\n",
    "df_users = df.userId\n",
    "df_rating = df.rating\n",
    " \n",
    "shape = len(df_movie.unique()-1), len(df_users.unique()-1)"
   ]
  },
  {
   "cell_type": "code",
   "execution_count": 5,
   "metadata": {
    "collapsed": true
   },
   "outputs": [],
   "source": [
    "matrix_movies={}\n",
    "for k, v in enumerate(df_movie.unique()):\n",
    "    matrix_movies[k] = v"
   ]
  },
  {
   "cell_type": "code",
   "execution_count": 8,
   "metadata": {
    "collapsed": true
   },
   "outputs": [],
   "source": [
    "movies_matrix = {v: k for k, v in matrix_movies.iteritems()}"
   ]
  },
  {
   "cell_type": "code",
   "execution_count": null,
   "metadata": {
    "collapsed": true
   },
   "outputs": [],
   "source": [
    "shape = len(df_movie.unique()-1), len(df_users.unique()-1)\n",
    "movies['movieId'].max()\n",
    "df_users.max(), df_users.shape, df_users.unique().shape"
   ]
  }
 ],
 "metadata": {
  "kernelspec": {
   "display_name": "Python 2",
   "language": "python",
   "name": "python2"
  },
  "language_info": {
   "codemirror_mode": {
    "name": "ipython",
    "version": 2
   },
   "file_extension": ".py",
   "mimetype": "text/x-python",
   "name": "python",
   "nbconvert_exporter": "python",
   "pygments_lexer": "ipython2",
   "version": "2.7.10"
  }
 },
 "nbformat": 4,
 "nbformat_minor": 0
}
