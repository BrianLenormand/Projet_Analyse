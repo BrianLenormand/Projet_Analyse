{
 "cells": [
  {
   "cell_type": "code",
   "execution_count": 2,
   "metadata": {
    "collapsed": true
   },
   "outputs": [],
   "source": [
    "# -*- coding: utf-8 -*-\n",
    "import pandas as pd\n",
    "import numpy as np\n",
    "import matplotlib.pyplot as plt\n",
    "from sklearn.decomposition import NMF\n",
    "import scipy.sparse as sparse\n",
    "from sklearn.cluster import KMeans\n",
    "import collections"
   ]
  },
  {
   "cell_type": "code",
   "execution_count": 80,
   "metadata": {
    "collapsed": false
   },
   "outputs": [],
   "source": [
    "def binary(x):\n",
    "    if x <= 2.5:\n",
    "        return 0\n",
    "    else:\n",
    "        return 1\n",
    "\n",
    "def get_movie(id):\n",
    "    return unicode(movies[movies['movieId']==id]['title'].values[0])\n",
    "\n",
    "def movies_matrix(Id): \n",
    "    return ratings[ratings[\"movieId\"]==Id][\"movies_matrix\"].values[0]\n",
    "\n",
    "def matrix_movies(index):\n",
    "    return ratings[ratings[\"movies_matrix\"]==index][\"movieId\"].values[0]"
   ]
  },
  {
   "cell_type": "code",
   "execution_count": 97,
   "metadata": {
    "collapsed": false
   },
   "outputs": [
    {
     "data": {
      "text/html": [
       "<div>\n",
       "<table border=\"1\" class=\"dataframe\">\n",
       "  <thead>\n",
       "    <tr style=\"text-align: right;\">\n",
       "      <th></th>\n",
       "      <th>movieId</th>\n",
       "      <th>title</th>\n",
       "      <th>genres</th>\n",
       "    </tr>\n",
       "  </thead>\n",
       "  <tbody>\n",
       "    <tr>\n",
       "      <th>0</th>\n",
       "      <td>1</td>\n",
       "      <td>Toy Story (1995)</td>\n",
       "      <td>Adventure|Animation|Children|Comedy|Fantasy</td>\n",
       "    </tr>\n",
       "    <tr>\n",
       "      <th>1</th>\n",
       "      <td>2</td>\n",
       "      <td>Jumanji (1995)</td>\n",
       "      <td>Adventure|Children|Fantasy</td>\n",
       "    </tr>\n",
       "    <tr>\n",
       "      <th>2</th>\n",
       "      <td>3</td>\n",
       "      <td>Grumpier Old Men (1995)</td>\n",
       "      <td>Comedy|Romance</td>\n",
       "    </tr>\n",
       "    <tr>\n",
       "      <th>3</th>\n",
       "      <td>4</td>\n",
       "      <td>Waiting to Exhale (1995)</td>\n",
       "      <td>Comedy|Drama|Romance</td>\n",
       "    </tr>\n",
       "    <tr>\n",
       "      <th>4</th>\n",
       "      <td>5</td>\n",
       "      <td>Father of the Bride Part II (1995)</td>\n",
       "      <td>Comedy</td>\n",
       "    </tr>\n",
       "  </tbody>\n",
       "</table>\n",
       "</div>"
      ],
      "text/plain": [
       "   movieId                               title  \\\n",
       "0        1                    Toy Story (1995)   \n",
       "1        2                      Jumanji (1995)   \n",
       "2        3             Grumpier Old Men (1995)   \n",
       "3        4            Waiting to Exhale (1995)   \n",
       "4        5  Father of the Bride Part II (1995)   \n",
       "\n",
       "                                        genres  \n",
       "0  Adventure|Animation|Children|Comedy|Fantasy  \n",
       "1                   Adventure|Children|Fantasy  \n",
       "2                               Comedy|Romance  \n",
       "3                         Comedy|Drama|Romance  \n",
       "4                                       Comedy  "
      ]
     },
     "execution_count": 97,
     "metadata": {},
     "output_type": "execute_result"
    }
   ],
   "source": [
    "#Reading users file:\n",
    "movies = pd.read_csv('//home/ink/Documents/2016_2017/Analyse de Donnée/Projet_Analyse/movies.csv', sep = \",\",\n",
    "encoding='latin-1')\n",
    "#Reading ratings file:\n",
    "ratings = pd.read_csv(\"/home/ink/Documents/2016_2017/Analyse de Donnée/Projet_Analyse/NouveauRatings.csv\", sep = \",\",\n",
    "encoding='latin-1')\n",
    "ratings = ratings.sort_values('movieId').reset_index()\n",
    "\n",
    "movies.head()"
   ]
  },
  {
   "cell_type": "code",
   "execution_count": 91,
   "metadata": {
    "collapsed": false
   },
   "outputs": [],
   "source": [
    "df = pd.DataFrame(ratings)\n",
    "df_movie = df.movies_matrix\n",
    "df_users = df.userId\n",
    "df_rating = df.rating\n",
    "movie_index = range(9066)\n",
    "\n",
    "shape = len(df_movie.unique()), len(df_users.unique())\n",
    "\n",
    "#df_movie.max(), df_movie.shape, df_movie.unique().shape"
   ]
  },
  {
   "cell_type": "code",
   "execution_count": 93,
   "metadata": {
    "collapsed": false
   },
   "outputs": [],
   "source": [
    "coo = sparse.csr_matrix((df_rating, ((df_movie.values),(df_users.values-1))), shape=shape)\n",
    "coo = coo.T"
   ]
  },
  {
   "cell_type": "code",
   "execution_count": 94,
   "metadata": {
    "collapsed": false
   },
   "outputs": [
    {
     "name": "stdout",
     "output_type": "stream",
     "text": [
      "defaultdict(<type 'list'>, {'133': [3], '132': [76], '131': [21], '130': [532], '137': [354], '136': [25], '135': [176], '134': [558], '139': [647], '138': [124], '24': [129], '25': [653], '26': [614], '27': [298], '20': [310], '21': [480], '22': [82, 114, 170, 188, 189, 290, 385, 411, 419, 475, 625], '23': [474], '28': [47], '29': [563], '0': [529], '4': [574], '8': [17, 24, 43, 54, 69, 79, 86, 89, 99, 111, 112, 153, 161, 172, 210, 222, 232, 251, 255, 283, 317, 328, 342, 360, 382, 389, 412, 458, 483, 489, 506, 542, 615, 635, 639, 649], '87': [543], '120': [459], '121': [284], '122': [246], '123': [438], '124': [536], '125': [561], '126': [239], '127': [1, 31, 49, 84, 91, 109, 120, 125, 144, 150, 160, 181, 187, 191, 193, 253, 278, 287, 337, 343, 368, 384, 395, 399, 415, 446, 486, 495, 515, 516, 534, 535, 589, 592, 640, 648, 661], '128': [264], '129': [149], '59': [212], '58': [664], '55': [586], '54': [426], '57': [584], '56': [606], '51': [663], '50': [467], '53': [465], '52': [345], '115': [573], '114': [504], '117': [6, 20, 40, 41, 65, 74, 90, 100, 119, 136, 138, 154, 158, 184, 196, 200, 216, 227, 243, 247, 270, 281, 292, 299, 366, 369, 393, 400, 407, 442, 457, 470, 482, 485, 501, 522, 524, 526, 549, 559, 591, 593, 602], '116': [269], '111': [533], '110': [595], '113': [430], '112': [296], '82': [308], '83': [286], '80': [267], '81': [274], '119': [238], '118': [362], '84': [312], '85': [645], '3': [519], '7': [7, 71, 87, 93, 148, 151, 249, 302, 425, 427, 432, 449, 521, 583, 622, 626], '108': [552], '109': [256], '102': [117], '103': [562], '100': [242], '101': [213], '106': [596], '107': [282], '104': [219], '105': [33], '39': [127], '38': [22], '33': [101], '32': [386], '31': [305], '30': [19, 23, 38, 46, 63, 81, 107, 113, 121, 143, 167, 171, 183, 190, 224, 236, 240, 248, 260, 265, 301, 307, 316, 318, 353, 356, 374, 388, 408, 409, 414, 420, 436, 439, 448, 454, 463, 494, 507, 512, 537, 550, 551, 554, 555, 567, 587, 588, 618, 628, 632, 638, 652, 656, 665], '37': [517], '36': [379], '35': [0, 5, 8, 9, 11, 13, 15, 26, 27, 28, 32, 34, 36, 42, 44, 45, 48, 50, 51, 52, 53, 57, 59, 64, 70, 75, 78, 80, 95, 105, 106, 108, 116, 122, 126, 128, 130, 134, 139, 140, 141, 146, 152, 157, 165, 166, 169, 173, 178, 179, 180, 182, 195, 197, 201, 202, 203, 205, 206, 207, 208, 209, 214, 217, 220, 221, 225, 226, 228, 230, 245, 257, 258, 262, 263, 266, 268, 271, 273, 277, 279, 285, 288, 295, 300, 304, 309, 314, 320, 321, 322, 324, 325, 326, 330, 334, 335, 336, 340, 346, 347, 348, 350, 355, 358, 359, 363, 365, 367, 371, 373, 375, 376, 391, 392, 394, 396, 397, 398, 402, 403, 405, 410, 413, 418, 423, 428, 434, 435, 437, 443, 444, 445, 450, 452, 461, 464, 466, 468, 469, 473, 476, 481, 484, 487, 488, 490, 491, 497, 498, 503, 505, 510, 511, 514, 525, 538, 539, 540, 548, 553, 556, 564, 565, 570, 572, 575, 577, 578, 580, 582, 590, 599, 600, 603, 608, 609, 610, 611, 613, 616, 617, 627, 629, 630, 633, 634, 636, 637, 641, 642, 643, 644, 650, 660, 662, 667, 668, 669], '34': [16], '60': [261], '61': [401], '62': [576], '63': [194], '64': [357], '65': [429], '66': [604], '67': [387], '68': [651], '69': [35, 66, 85, 223, 547, 601, 658, 666], '2': [546], '6': [579], '99': [199], '98': [235], '91': [406], '90': [383], '93': [186], '92': [381], '95': [560], '94': [133], '97': [94], '96': [513], '11': [92, 98, 159, 192, 218, 234, 244, 280, 303, 311, 327, 329, 372, 380, 390, 421, 433, 492, 496, 509, 544, 568, 594, 646, 657], '10': [623], '13': [14], '12': [118], '15': [508], '14': [29], '17': [451], '16': [72], '19': [55], '18': [471], '88': [77], '89': [557], '48': [479], '49': [404], '46': [241], '86': [291], '44': [607], '45': [18], '42': [460], '43': [528], '40': [456], '41': [211], '1': [10, 73, 155, 275, 331], '5': [231], '9': [293], '146': [294], '147': [344], '144': [56], '145': [252], '142': [441], '143': [655], '140': [250], '141': [500], '148': [168], '149': [598], '77': [110], '76': [462], '75': [104], '74': [597], '73': [198], '72': [164], '71': [341], '70': [2, 4, 12, 30, 37, 39, 58, 60, 61, 62, 67, 68, 83, 88, 96, 97, 102, 103, 115, 123, 131, 132, 135, 137, 142, 145, 147, 162, 163, 174, 175, 177, 185, 204, 215, 229, 233, 237, 254, 259, 272, 276, 289, 297, 306, 313, 315, 319, 323, 332, 333, 338, 339, 349, 351, 361, 364, 370, 377, 378, 416, 417, 424, 431, 440, 447, 453, 455, 472, 477, 478, 493, 499, 502, 518, 520, 523, 527, 530, 531, 541, 545, 566, 569, 571, 581, 585, 605, 612, 619, 620, 621, 624, 631, 654, 659, 670], '79': [422], '78': [156], '47': [352]})\n"
     ]
    }
   ],
   "source": [
    "dict_x = collections.defaultdict(list)\n",
    "labeler = KMeans(n_clusters=150, random_state=0).fit(coo)\n",
    "labeler.labels_\n",
    "# convert coo to csr format \n",
    "# note: Kmeans currently only works with CSR type sparse matrix \n",
    "\n",
    "#faire un dictionnaire de film avec en clé le label\n",
    "# print cluster assignments for each row \n",
    "for (row, label) in enumerate(labeler.labels_):\n",
    "    dict_x[str(label)].append(row)\n",
    "#print dict_x"
   ]
  },
  {
   "cell_type": "code",
   "execution_count": 95,
   "metadata": {
    "collapsed": false
   },
   "outputs": [
    {
     "name": "stdout",
     "output_type": "stream",
     "text": [
      "133 [u\"[u'Waiting to Exhale (1995)']\"]\n",
      "132 [u'[u\"Antonia\\'s Line (Antonia) (1995)\"]']\n",
      "131 [u\"[u'Copycat (1995)']\"]\n",
      "130 [u\"[u'Bye Bye, Love (1995)']\"]\n",
      "137 [u\"[u'Secret Adventures of Tom Thumb, The (1993)']\"]\n",
      "136 [u\"[u'Othello (1995)']\"]\n",
      "135 [u\"[u'Tie That Binds, The (1995)']\"]\n",
      "134 [u\"[u'Girl 6 (1996)']\"]\n",
      "139 [u\"[u'Hunchback of Notre Dame, The (1996)']\"]\n",
      "138 [u\"[u'Bad Boys (1995)']\"]\n",
      "24 [u\"[u'Apollo 13 (1995)']\"]\n",
      "25 [u'[ u\"My Life and Times With Antonin Artaud (En compagnie d\\'Antonin Artaud) (1993)\"]']\n",
      "26 [u'[u\"Heaven\\'s Prisoners (1996)\"]']\n",
      "27 [u\"[u'Tommy Boy (1995)']\"]\n",
      "20 [u\"[u'Adventures of Priscilla, Queen of the Desert, The (1994)']\"]\n",
      "21 [u\"[u'Simple Twist of Fate, A (1994)']\"]\n",
      "22 [u\"[u'Black Sheep (1996)']\", u\"[u'NeverEnding Story III, The (1994)']\", u\"[u'Showgirls (1995)']\", u\"[u'Before the Rain (Pred dozhdot) (1994)']\", u\"[u'Before Sunrise (1995)']\", u'[u\"National Lampoon\\'s Senior Trip (1995)\"]', u\"[u'Color of Night (1994)']\", u\"[u'Guilty as Sin (1993)']\", u\"[u'Hudsucker Proxy, The (1994)']\", u\"[u'Secret Garden, The (1993)']\", u\"[u'Arrival, The (1996)']\"]\n",
      "23 [u\"[u'Searching for Bobby Fischer (1993)']\"]\n",
      "28 [u\"[u'When Night Is Falling (1995)']\"]\n",
      "29 [u\"[u'Superweib, Das (1996)']\"]\n",
      "0 [u\"[u'Pretty Woman (1990)']\"]\n",
      "4 [u\"[u'World of Apu, The (Apur Sansar) (1959)']\"]\n",
      "8 [u\"[u'Four Rooms (1995)']\", u\"[u'Leaving Las Vegas (1995)']\", u\"[u'To Die For (1995)']\", u\"[u'Postman, The (Postino, Il) (1994)']\", u\"[u'Bed of Roses (1996)']\", u\"[u'Angels and Insects (1995)']\", u\"[u'Beautiful Girls (1996)']\", u\"[u'Hate (Haine, La) (1995)']\", u\"[u'Catwalk (1996)']\", u\"[u'Chungking Express (Chung Hing sam lam) (1994)']\", u'[u\"Star Maker, The (Uomo delle stelle, L\\') (1995)\"]', u\"[u'Jury Duty (1995)']\", u\"[u'Mute Witness (1994)']\", u\"[u'Something to Talk About (1995)']\", u\"[u'Far From Home: The Adventures of Yellow Dog (1995)']\", u\"[u'Heavyweights (Heavy Weights) (1995)']\", u\"[u'Star Wars: Episode IV - A New Hope (1977)']\", u\"[u'My Family (1995)']\", u\"[u'New Jersey Drive (1995)']\", u\"[u'Santa Clause, The (1994)']\", u\"[u'Crooklyn (1994)']\", u\"[u'Lion King, The (1994)']\", u\"[u'Speechless (1994)']\", u\"[u'Above the Rim (1994)']\", u\"[u'Clean Slate (1994)']\", u\"[u'Dave (1993)']\", u\"[u'Hard Target (1993)']\", u\"[u'Puppet Masters, The (1994)']\", u\"[u'Sleepless in Seattle (1993)']\", u\"[u'Super Mario Bros. (1993)']\", u\"[u'Cronos (1993)']\", u\"[u'Bread and Chocolate (Pane e cioccolata) (1973)']\", u\"[u'Rock, The (1996)']\", u\"[u'Striptease (1996)']\", u\"[u'Grass Harp, The (1995)']\", u\"[u'Kingpin (1996)']\"]\n",
      "87 [u\"[u'Aristocats, The (1970)']\"]\n",
      "120 [u\"[u'Radioland Murders (1994)']\"]\n",
      "121 [u\"[u'Shawshank Redemption, The (1994)']\"]\n",
      "122 [u\"[u'Man of the House (1995)']\"]\n",
      "123 [u\"[u'Man Without a Face, The (1993)']\"]\n",
      "124 [u\"[u'Homeward Bound II: Lost in San Francisco (1996)']\"]\n",
      "125 [u\"[u'Mission: Impossible (1996)']\"]\n",
      "126 [u\"[u'Major Payne (1995)']\"]\n",
      "127 [u\"[u'Jumanji (1995)']\", u\"[u'Twelve Monkeys (a.k.a. 12 Monkeys) (1995)']\", u\"[u'Mighty Aphrodite (1995)']\", u\"[u'Mary Reilly (1996)']\", u\"[u'Heidi Fleiss: Hollywood Madam (1995)']\", u\"[u'Boys of St. Vincent, The (1992)']\", u\"[u'Man of the Year (1995)']\", u\"[u'Amazing Panda Adventure, The (1995)']\", u\"[u'Die Hard: With a Vengeance (1995)']\", u\"[u'Jeffrey (1995)']\", u\"[u'Mighty Morphin Power Rangers: The Movie (1995)']\", u\"[u'Unstrung Heroes (1995)']\", u\"[u'Burnt by the Sun (Utomlyonnye solntsem) (1994)']\", u\"[u'Babysitter, The (1995)']\", u\"[u'Cure, The (1995)']\", u'[u\"Nobody\\'s Fool (1994)\"]', u\"[u'Stuart Saves His Family (1995)']\", u\"[u'Strawberry and Chocolate (Fresa y chocolate) (1993)']\", u\"[u'Red Rock West (1992)']\", u\"[u'Timecop (1994)']\", u\"[u'Being Human (1993)']\", u\"[u'Coneheads (1993)']\", u\"[u'Farewell My Concubine (Ba wang bie ji) (1993)']\", u\"[u'With Honors (1994)']\", u\"[u'Live Nude Girls (1995)']\", u\"[u'Mr. Wonderful (1993)']\", u\"[u'Son in Law (1993)']\", u\"[u'Three Musketeers, The (1993)']\", u\"[u'Princess Caraboo (1994)']\", u\"[u'Celluloid Closet, The (1995)']\", u\"[u'Candyman: Farewell to the Flesh (1995)']\", u\"[u'Fargo (1996)']\", u\"[u'True Crime (1996)']\", u\"[u'Delta of Venus (1995)']\", u\"[u'Marlene Dietrich: Shadow and Light (1996)']\", u\"[u'Cable Guy, The (1996)']\", u\"[u'Time to Kill, A (1996)']\"]\n",
      "128 [u\"[u'Perez Family, The (1995)']\"]\n",
      "129 [u\"[u'Hackers (1995)']\"]\n",
      "59 [u\"[u'Hideaway (1995)']\"]\n",
      "58 [u\"[u'Fled (1996)']\"]\n",
      "55 [u\"[u'Mrs. Winterbourne (1996)']\"]\n",
      "54 [u\"[u'Judgment Night (1993)']\"]\n",
      "57 [u\"[u'Operation Dumbo Drop (1995)']\"]\n",
      "56 [u\"[u'Multiplicity (1996)']\"]\n",
      "51 [u\"[u'Alaska (1996)']\"]\n",
      "50 [u\"[u'Romeo Is Bleeding (1993)']\"]\n",
      "53 [u\"[u'RoboCop 3 (1993)']\"]\n",
      "52 [u\"[u'When a Man Loves a Woman (1994)']\"]\n",
      "115 [u\"[u'Song of the Little Road (Pather Panchali) (1955)']\"]\n",
      "114 [u\"[u'Germinal (1993)']\"]\n",
      "117 [u\"[u'Sabrina (1995)']\", u\"[u'Get Shorty (1995)']\", u\"[u'Dead Presidents (1995)']\", u\"[u'Restoration (1995)']\", u\"[u'From Dusk Till Dawn (1996)']\", u\"[u'White Balloon, The (Badkonake sefid) (1995)']\", u\"[u'Shopping (1994)']\", u\"[u'Braveheart (1995)']\", u\"[u'Down Periscope (1996)']\", u\"[u'Canadian Bacon (1995)']\", u\"[u'Clockers (1995)']\", u\"[u'Kids (1995)']\", u\"[u'Mad Love (1995)']\", u\"[u'Waterworld (1995)']\", u\"[u'Clerks (1994)']\", u\"[u'Destiny Turns on the Radio (1995)']\", u\"[u'Gumby: The Movie (1995)']\", u\"[u'Jerky Boys, The (1995)']\", u\"[u'Losing Isaiah (1995)']\", u\"[u'Mixed Nuts (1994)']\", u\"[u'Queen Margot (Reine Margot, La) (1994)']\", u\"[u'Specialist, The (1994)']\", u\"[u'Tank Girl (1995)']\", u\"[u'Vanya on 42nd Street (1994)']\", u\"[u'Bad Girls (1994)']\", u\"[u'Beverly Hillbillies, The (1993)']\", u\"[u'Even Cowgirls Get the Blues (1993)']\", u\"[u'Flesh and Bone (1993)']\", u\"[u'Geronimo: An American Legend (1993)']\", u\"[u'In the Realm of the Senses (Ai no corrida) (1976)']\", u\"[u'Program, The (1993)']\", u\"[u'Rudy (1993)']\", u\"[u'Six Degrees of Separation (1993)']\", u\"[u'Blade Runner (1982)']\", u\"[u'Paris, France (1993)']\", u\"[u'Terminator 2: Judgment Day (1991)']\", u\"[u'Batman (1989)']\", u\"[u'Snow White and the Seven Dwarfs (1937)']\", u\"[u'Last Supper, The (1995)']\", u\"[u'Diabolique (1996)']\", u\"[u'Feeling Minnesota (1996)']\", u\"[u'Angus (1995)']\", u\"[u'Flipper (1996)']\"]\n",
      "116 [u\"[u'Picture Bride (Bijo photo) (1994)']\"]\n",
      "111 [u\"[u'One Fine Day (1996)']\"]\n",
      "110 [u\"[u'Boys (1996)']\"]\n",
      "113 [u\"[u'King of the Hill (1993)']\"]\n",
      "112 [u\"[u'Tom & Viv (1994)']\"]\n",
      "82 [u\"[u'Baby-Sitters Club, The (1995)']\"]\n",
      "83 [u\"[u'Suture (1993)']\"]\n",
      "80 [u\"[u'Priest (1994)']\"]\n",
      "81 [u\"[u'Three Colors: Red (Trois couleurs: Rouge) (1994)']\"]\n",
      "119 [u\"[u'Legends of the Fall (1994)']\"]\n",
      "118 [u\"[u'Age of Innocence, The (1993)']\"]\n",
      "84 [u\"[u'Bitter Moon (1992)']\"]\n",
      "85 [u\"[u'Stealing Beauty (1996)']\"]\n",
      "3 [u\"[u'Home Alone (1990)']\"]\n",
      "7 [u\"[u'Tom and Huck (1995)']\", u\"[u'Nico Icon (1995)']\", u\"[u'Broken Arrow (1996)']\", u\"[u'Bottle Rocket (1996)']\", u\"[u'Free Willy 2: The Adventure Home (1995)']\", u\"[u'Johnny Mnemonic (1995)']\", u\"[u'Miracle on 34th Street (1994)']\", u'[u\"What\\'s Eating Gilbert Grape (1993)\"]', u'[u\"What\\'s Love Got to Do with It? (1993)\"]', u\"[u'Jurassic Park (1993)']\", u\"[u'Last Action Hero (1993)']\", u\"[u'Next Karate Kid, The (1994)']\", u\"[u'Aladdin (1992)']\", u\"[u'Country Life (1994)']\", u\"[u'Wallace & Gromit: A Close Shave (1995)']\", u\"[ u'Dr. Strangelove or: How I Learned to Stop Worrying and Love the Bomb (1964)']\"]\n",
      "108 [u\"[u'All Dogs Go to Heaven 2 (1996)']\"]\n",
      "109 [u\"[u'Beyond Bedlam (1993)']\"]\n",
      "102 [u\"[u'Frankie Starlight (1995)']\"]\n",
      "103 [u\"[u'Moll Flanders (1996)']\"]\n",
      "100 [u\"[u'Love Affair (1994)']\"]\n",
      "101 [u\"[u'Fluke (1995)']\"]\n",
      "106 [u\"[u'Quest, The (1996)']\"]\n",
      "107 [u\"[u'Stargate (1994)']\"]\n",
      "104 [u\"[u'Heavenly Creatures (1994)']\"]\n",
      "105 [u\"[u'Carrington (1995)']\"]\n",
      "39 [u\"[u'Awfully Big Adventure, An (1995)']\"]\n",
      "38 [u\"[u'Assassins (1995)']\"]\n",
      "33 [u\"[u'Taxi Driver (1976)']\"]\n",
      "32 [u\"[u'Cops and Robbersons (1994)']\"]\n",
      "31 [u\"[u'War, The (1994)']\"]\n",
      "30 [u\"[u'Money Train (1995)']\", u\"[u'Powder (1995)']\", u\"[u'Cry, the Beloved Country (1995)']\", u\"[u'Pocahontas (1995)']\", u\"[u'French Twist (Gazon maudit) (1995)']\", u\"[u'Dunston Checks In (1996)']\", u\"[u'If Lucy Fell (1996)']\", u\"[u'Flirting With Disaster (1996)']\", u\"[u'Up Close and Personal (1996)']\", u\"[u'Devil in a Blue Dress (1995)']\", u\"[u'Reckless (1995)']\", u\"[u'Smoke (1995)']\", u\"[u'Walk in the Clouds, A (1995)']\", u\"[u'Billy Madison (1995)']\", u\"[u'I.Q. (1994)']\", u'[u\"Enfer, L\\' (1994)\"]', u\"[u'Little Odessa (1994)']\", u\"[u'Milk Money (1994)']\", u\"[u'Once Were Warriors (1994)']\", u'[u\"Pyromaniac\\'s Love Story, A (1995)\"]', u\"[u'Walking Dead, The (1995)']\", u'[u\"Muriel\\'s Wedding (1994)\"]', u\"[u'Corrina, Corrina (1994)']\", u\"[u'Crow, The (1994)']\", u'[u\"Jason\\'s Lyric (1994)\"]', u\"[u'Mirage (1995)']\", u\"[u'Blue Chips (1994)']\", u\"[u'Dangerous Game (1993)']\", u\"[u'Getaway, The (1994)']\", u\"[u'Getting Even with Dad (1994)']\", u\"[u'Hot Shots! Part Deux (1993)']\", u'[u\"I\\'ll Do Anything (1994)\"]', u\"[u'Made in America (1993)']\", u\"[u'Manhattan Murder Mystery (1993)']\", u\"[u'Naked (1993)']\", u\"[u'Philadelphia (1993)']\", u\"[u'Rising Sun (1993)']\", u\"[u'Nightmare Before Christmas, The (1993)']\", u\"[u'Kika (1993)']\", u\"[u'Spanking the Monkey (1994)']\", u\"[u'Heavy Metal (1981)']\", u\"[u'Primal Fear (1996)']\", u\"[u'Carried Away (1996)']\", u\"[u'Denise Calls Up (1995)']\", u\"[u'Family Thing, A (1996)']\", u\"[u'James and the Giant Peach (1996)']\", u\"[u'Solo (1996)']\", u\"[u'Substitute, The (1996)']\", u\"[u'Barb Wire (1996)']\", u\"[u'Gold Diggers: The Secret of Bear Mountain (1995)']\", u\"[u'Maya Lin: A Strong Clear Vision (1994)']\", u\"[u'I Shot Andy Warhol (1996)']\", u\"[u'Nutty Professor, The (1996)']\", u\"[u'Lone Star (1996)']\", u\"[u'Kazaam (1996)']\"]\n",
      "37 [u\"[u'M\\\\xc3\\\\xa9tisse (Caf\\\\xc3\\\\xa9 au Lait) (1993)']\"]\n",
      "36 [u\"[u'Cabin Boy (1994)']\"]\n",
      "35 [u\"[u'Toy Story (1995)']\", u\"[u'Heat (1995)']\", u\"[u'Sudden Death (1995)']\", u\"[u'GoldenEye (1995)']\", u\"[u'Dracula: Dead and Loving It (1995)']\", u\"[u'Nixon (1995)']\", u\"[u'Casino (1995)']\", u\"[u'Now and Then (1995)']\", u\"[u'Persuasion (1995)']\", u\"[u'City of Lost Children, The (Cit\\\\xc3\\\\xa9 des enfants perdus, La) (1995)']\", u\"[u'Babe (1995)']\", u\"[u'Dead Man Walking (1995)']\", u\"[u'It Takes Two (1995)']\", u\"[u'Mortal Kombat (1995)']\", u\"[u'How to Make an American Quilt (1995)']\", u\"[u'Seven (a.k.a. Se7en) (1995)']\", u\"[u'Usual Suspects, The (1995)']\", u\"[u'Lamerica (1994)']\", u\"[u'Big Green, The (1995)']\", u\"[u'Georgia (1995)']\", u\"[u'Home for the Holidays (1995)']\", u\"[u'Eye for an Eye (1996)']\", u'[ u\"Don\\'t Be a Menace to South Central While Drinking Your Juice in the Hood (1996)\"]', u\"[u'Friday (1995)']\", u\"[u'Screamers (1995)']\", u'[u\"Things to Do in Denver When You\\'re Dead (1995)\"]', u\"[u'Last Summer in the Hamptons (1995)']\", u\"[u'White Squall (1996)']\", u\"[u'Unforgettable (1996)']\", u\"[u'Anne Frank Remembered (1995)']\", u'[u\"Young Poisoner\\'s Handbook, The (1995)\"]', u\"[u'Steal Big, Steal Little (1995)']\", u\"[u'Angela (1995)']\", u\"[u'Birdcage, The (1996)']\", u\"[u'Basketball Diaries, The (1995)']\", u\"[u'Amateur (1994)']\", u\"[u'Rob Roy (1995)']\", u\"[u'Beyond Rangoon (1995)']\", u\"[u'Congo (1995)']\", u\"[u'Crimson Tide (1995)']\", u\"[u'Crumb (1994)']\", u\"[u'Feast of July (1995)']\", u\"[u'Judge Dredd (1995)']\", u\"[u'Love & Human Remains (1993)']\", u\"[u'Party Girl (1995)']\", u\"[u'Prophecy, The (1995)']\", u\"[u'Scarlet Letter, The (1995)']\", u\"[u'Species (1995)']\", u\"[u'Total Eclipse (1995)']\", u\"[u'To Wong Foo, Thanks for Everything! Julie Newmar (1995)']\", u\"[u'Under Siege 2: Dark Territory (1995)']\", u\"[u'Unzipped (1995)']\", u\"[u'Circle of Friends (1995)']\", u\"[u'Don Juan DeMarco (1995)']\", u\"[u'Death and the Maiden (1994)']\", u\"[u'Dolores Claiborne (1995)']\", u\"[u'Dumb & Dumber (Dumb and Dumber) (1994)']\", u\"[u'Exotica (1994)']\", u\"[u'Exit to Eden (1994)']\", u\"[u'Ed Wood (1994)']\", u\"[u'French Kiss (1995)']\", u\"[u'Forget Paris (1995)']\", u\"[u'Farinelli: il castrato (1994)']\", u\"[u'The Glass Shield (1994)']\", u\"[u'Houseguest (1994)']\", u\"[u'Immortal Beloved (1994)']\", u\"[u'Interview with the Vampire: The Vampire Chronicles (1994)']\", u\"[u'Jefferson in Paris (1995)']\", u\"[u'Junior (1994)']\", u'[u\"Kid in King Arthur\\'s Court, A (1995)\"]', u'[u\"Mary Shelley\\'s Frankenstein (Frankenstein) (1994)\"]', u\"[u'Nina Takes a Lover (1994)']\", u\"[u'Natural Born Killers (1994)']\", u\"[u'Outbreak (1995)']\", u\"[ u'L\\\\xc3\\\\xa9on: The Professional (a.k.a. The Professional) (L\\\\xc3\\\\xa9on) (1994)']\", u\"[u'Pulp Fiction (1994)']\", u\"[u'Quiz Show (1994)']\", u\"[u'Quick and the Dead, The (1995)']\", u\"[u'Ready to Wear (Pret-A-Porter) (1994)']\", u\"[u'Red Firecracker, Green Firecracker (Pao Da Shuang Deng) (1994)']\", u\"[u'Swan Princess, The (1994)']\", u\"[u'Shallow Grave (1994)']\", u\"[u'Swimming with Sharks (1995)']\", u\"[u'Tales from the Hood (1995)']\", u\"[u'Underneath (1995)']\", u\"[u'While You Were Sleeping (1995)']\", u\"[u'Ace Ventura: Pet Detective (1994)']\", u\"[u'Clear and Present Danger (1994)']\", u\"[u'Flintstones, The (1994)']\", u\"[u'Forrest Gump (1994)']\", u\"[u'Four Weddings and a Funeral (1994)']\", u\"[u'I Love Trouble (1994)']\", u\"[u'It Could Happen to You (1994)']\", u\"[u'Jungle Book, The (1994)']\", u'[ u\"Wes Craven\\'s New Nightmare (Nightmare on Elm Street Part 7: Freddy\\'s Finale, A) (1994)\"]', u\"[u'Naked Gun 33 1/3: The Final Insult (1994)']\", u\"[u'Paper, The (1994)']\", u\"[u'Reality Bites (1994)']\", u\"[u'River Wild, The (1994)']\", u\"[u'Wolf (1994)']\", u\"[u'Wyatt Earp (1994)']\", u\"[u'Bad Company (1995)']\", u\"[u'Boys Life (1995)']\", u\"[u'Street Fighter (1994)']\", u\"[u'In the Mouth of Madness (1995)']\", u\"[u'8 Seconds (1994)']\", u\"[u'Airheads (1994)']\", u\"[u'Another Stakeout (1993)']\", u\"[u'Barcelona (1994)']\", u\"[u'Black Beauty (1994)']\", u\"[u'Blown Away (1994)']\", u\"[u'Blue Sky (1994)']\", u\"[u'Body Snatchers (1993)']\", u\"[u'Demolition Man (1993)']\", u\"[u'Endless Summer 2, The (1994)']\", u\"[u'Fatal Instinct (1993)']\", u\"[u'Favor, The (1994)']\", u\"[u'Fearless (1993)']\", u\"[u'Fear of a Black Hat (1994)']\", u\"[u'For Love or Money (1993)']\", u\"[u'Firm, The (1993)']\", u\"[u'Fresh (1994)']\", u\"[u'Go Fish (1994)']\", u\"[u'Heaven & Earth (1993)']\", u\"[u'House Party 3 (1994)']\", u\"[u'In the Name of the Father (1993)']\", u\"[u'Kalifornia (1993)']\", u\"[u'Lightning Jack (1994)']\", u\"[u'M. Butterfly (1993)']\", u\"[u'Malice (1993)']\", u\"[u'What Happened Was... (1994)']\", u\"[u'Much Ado About Nothing (1993)']\", u\"[u'Mr. Jones (1993)']\", u\"[u'No Escape (1994)']\", u\"[u'Orlando (1992)']\", u\"[u'Remains of the Day, The (1993)']\", u\"[u'Road to Wellville, The (1994)']\", u\"[u'Robin Hood: Men in Tights (1993)']\", u\"[u'Romper Stomper (1992)']\", u\"[u'Ruby in Paradise (1993)']\", u\"[u'Scout, The (1994)']\", u\"[u'Serial Mom (1994)']\", u\"[u'Sirens (1994)']\", u\"[u'Sliver (1993)']\", u\"[u'So I Married an Axe Murderer (1993)']\", u\"[u'Striking Distance (1993)']\", u\"[u'Surviving the Game (1994)']\", u\"[u'Terminal Velocity (1994)']\", u\"[u'Trial by Jury (1994)']\", u\"[u'True Romance (1993)']\", u\"[u'Welcome to the Dollhouse (1995)']\", u\"[u'Chasers (1994)']\", u\"[u'Wedding Gift, The (1994)']\", u\"[u'Ciao, Professore! (Io speriamo che me la cavo) (1992)']\", u\"[u'Andre (1994)']\", u\"[u'Silence of the Lambs, The (1991)']\", u\"[u'Hellraiser: Bloodline (1996)']\", u\"[u'Pallbearer, The (1996)']\", u\"[u'Jane Eyre (1996)']\", u\"[u'Thin Line Between Love and Hate, A (1996)']\", u\"[u'Land and Freedom (Tierra y libertad) (1995)']\", u\"[u'Sgt. Bilko (1996)']\", u\"[u'Dragonheart (1996)']\", u\"[u'Eddie (1996)']\", u\"[u'Faithful (1996)']\", u\"[u'Bloodsport 2 (a.k.a. Bloodsport II: The Next Kumite) (1996)']\", u\"[u'Mystery Science Theater 3000: The Movie (1996)']\", u\"[u'Barbarella (1968)']\", u\"[u'Some Folks Call It a Sling Blade (1993)']\", u\"[ u'Alphaville (Alphaville, une \\\\xc3\\\\xa9trange aventure de Lemmy Caution) (1965)']\", u'[u\"It\\'s My Party (1996)\"]', u\"[u'Butterfly Kiss (1995)']\", u\"[u'Truth About Cats & Dogs, The (1996)']\", u\"[u'Oliver & Company (1988)']\", u\"[u'Dead Man (1995)']\", u\"[u'Halfmoon (Paul Bowles - Halbmond) (1995)']\", u\"[u'Haunted World of Edward D. Wood Jr., The (1996)']\", u\"[u'Craft, The (1996)']\", u\"[u'Great White Hype, The (1996)']\", u\"[u'Cold Comfort Farm (1995)']\", u\"[u'Cemetery Man (Dellamorte Dellamore) (1994)']\", u\"[u'Twister (1996)']\", u\"[u'Month by the Lake, A (1995)']\", u\"[u'Kim (1950)']\", u\"[u'Carmen Miranda: Bananas Is My Business (1994)']\", u\"[u'Stalingrad (1993)']\", u\"[u'Phantom, The (1996)']\", u\"[u'Heavy (1995)']\", u\"[u'Jack (1996)']\", u\"[u'Spirits of the Dead (1968)']\", u\"[u'Trainspotting (1996)']\", u'[u\"\\'Til There Was You (1997)\"]', u\"[u'Independence Day (a.k.a. ID4) (1996)']\", u\"[u'Eraser (1996)']\", u'[u\"She\\'s the One (1996)\"]', u\"[u'American Buffalo (1996)']\", u\"[u'Two Deaths (1995)']\", u\"[u'Very Brady Sequel, A (1996)']\", u\"[u'Death in the Garden (Mort en ce jardin, La) (1956)']\"]\n",
      "34 [u\"[u'Sense and Sensibility (1995)']\"]\n",
      "60 [u\"[u'Poison Ivy II (1996)']\"]\n",
      "61 [u'[u\"Widows\\' Peak (1994)\"]']\n",
      "62 [u\"[u'Space Jam (1996)']\"]\n",
      "63 [u\"[u'Castle Freak (1995)']\"]\n",
      "64 [u\"[ u'Highlander III: The Sorcerer (a.k.a. Highlander: The Final Dimension) (1994)']\"]\n",
      "65 [u\"[u'Killing Zoe (1994)']\"]\n",
      "66 [u\"[u'Horseman on the Roof, The (Hussard sur le toit, Le) (1995)']\"]\n",
      "67 [u\"[u'Cowboy Way, The (1994)']\"]\n",
      "68 [u\"[u'Gate of Heavenly Peace, The (1995)']\"]\n",
      "69 [u\"[u'Across the Sea of Time (1995)']\", u\"[u'Fair Game (1995)']\", u\"[u'Vampire in Brooklyn (1995)']\", u\"[u'Hunted, The (1995)']\", u\"[u'My Favorite Season (1993)']\", u\"[u'Celtic Pride (1996)']\", u\"[u'Phenomenon (1996)']\", u\"[u'Larger Than Life (1996)']\"]\n",
      "2 [u\"[u'Scream of Stone (Cerro Torre: Schrei aus Stein) (1991)']\"]\n",
      "6 [u\"[u'Run of the Country, The (1995)']\"]\n",
      "99 [u\"[u'Drop Zone (1994)']\"]\n",
      "98 [u\"[u'Ladybird Ladybird (1994)']\"]\n",
      "91 [u\"[u'Fugitive, The (1993)']\"]\n",
      "90 [u\"[u'Cliffhanger (1993)']\"]\n",
      "93 [u\"[u'Browning Version, The (1994)']\"]\n",
      "92 [u'[u\"City Slickers II: The Legend of Curly\\'s Gold (1994)\"]']\n",
      "95 [u\"[u'Courage Under Fire (1996)']\"]\n",
      "94 [u\"[u'Beauty of the Day (Belle de jour) (1967)']\"]\n",
      "97 [u\"[u'Mr. Wrong (1996)']\"]\n",
      "96 [u\"[u'Little Rascals, The (1994)']\"]\n",
      "11 [u\"[u'City Hall (1996)']\", u\"[u'Muppet Treasure Island (1996)']\", u\"[u'Mallrats (1995)']\", u\"[u'Boys on the Side (1995)']\", u\"[u'Hoop Dreams (1994)']\", u\"[u'Little Princess, A (1995)']\", u\"[u'Madness of King George, The (1994)']\", u\"[u'Secret of Roan Inish, The (1994)']\", u\"[u'Virtuosity (1995)']\", u\"[u'Backbeat (1993)']\", u\"[ u'Wonderful, Horrible Life of Leni Riefenstahl, The (Macht der Bilder: Leni Riefenstahl, Die) (1993)']\", u\"[u'Little Buddha (1993)']\", u\"[u'Blink (1994)']\", u'[u\"Carlito\\'s Way (1993)\"]', u\"[u'Dazed and Confused (1993)']\", u\"[u'In the Army Now (1994)']\", u\"[u'Life with Mikey (1993)']\", u\"[u'Thirty-Two Short Films About Glenn Gould (1993)']\", u\"[u'Tombstone (1993)']\", u\"[u'Little Big League (1994)']\", u\"[u'Flower of My Secret, The (La flor de mi secreto) (1995)']\", u\"[u'Fear (1996)']\", u\"[u'Faces (1968)']\", u\"[u'Fan, The (1996)']\", u\"[u'Harriet the Spy (1996)']\"]\n",
      "10 [u\"[u'Force of Evil (1948)']\"]\n",
      "13 [u\"[u'Cutthroat Island (1995)']\"]\n",
      "12 [u\"[u'Jade (1995)']\"]\n",
      "15 [u\"[u'Bhaji on the Beach (1993)']\"]\n",
      "14 [u\"[u'Shanghai Triad (Yao a yao yao dao waipo qiao) (1995)']\"]\n",
      "17 [u\"[u'North (1994)']\"]\n",
      "16 [u\"[u'Crossing Guard, The (1995)']\"]\n",
      "19 [u\"[u'Confessional, The (Confessionnal, Le) (1995)']\"]\n",
      "18 [u\"[u'Savage Nights (Nuits fauves, Les) (1992)']\"]\n",
      "88 [u\"[u'Once Upon a Time... When We Were Colored (1995)']\"]\n",
      "89 [u\"[u'Jack and Sarah (1995)']\"]\n",
      "48 [u\"[u'Short Cuts (1993)']\"]\n",
      "49 [u\"[u'Free Willy (1993)']\"]\n",
      "46 [u\"[u'My Crazy Life (Mi vida loca) (1993)']\"]\n",
      "86 [u\"[u'To Live (Huozhe) (1994)']\"]\n",
      "44 [u\"[u'Wallace & Gromit: The Best of Aardman Animation (1996)']\"]\n",
      "45 [u\"[u'Ace Ventura: When Nature Calls (1995)']\"]\n",
      "42 [u\"[u'Ref, The (1994)']\"]\n",
      "43 [u\"[u'Pinocchio (1940)']\"]\n",
      "40 [u\"[u'Poetic Justice (1993)']\"]\n",
      "41 [u\"[u'Goofy Movie, A (1995)']\"]\n",
      "1 [u\"[u'American President, The (1995)']\", u\"[u'Juror, The (1996)']\", u\"[u'Living in Oblivion (1995)']\", u\"[u'Three Colors: Blue (Trois couleurs: Bleu) (1993)']\", u\"[u'Mask, The (1994)']\"]\n",
      "5 [u\"[u'Kiss of Death (1995)']\"]\n",
      "9 [u\"[u'Tales from the Crypt Presents: Demon Knight (1995)']\"]\n",
      "146 [u\"[u'Star Trek: Generations (1994)']\"]\n",
      "147 [u\"[u'True Lies (1994)']\"]\n",
      "144 [u\"[u'Indian in the Cupboard, The (1995)']\"]\n",
      "145 [u\"[u'Murder in the First (1995)']\"]\n",
      "142 [u\"[u'Executive Decision (1996)']\"]\n",
      "143 [u\"[u'Frighteners, The (1996)']\"]\n",
      "140 [u\"[u'Miami Rhapsody (1995)']\"]\n",
      "141 [u\"[u'Pagemaster, The (1994)']\"]\n",
      "148 [u\"[u'Safe (1995)']\"]\n",
      "149 [u\"[u'Mulholland Falls (1996)']\"]\n",
      "77 [u\"[u'Boomerang (1992)']\"]\n",
      "76 [u\"[u'Renaissance Man (1994)']\"]\n",
      "75 [u'[u\"Margaret\\'s Museum (1995)\"]']\n",
      "74 [u\"[u'Cosi (1996)']\"]\n",
      "73 [u\"[u'Disclosure (1994)']\"]\n",
      "72 [u\"[u'Nine Months (1995)']\"]\n",
      "71 [u\"[u'Speed (1994)']\"]\n",
      "70 [u\"[u'Grumpier Old Men (1995)']\", u\"[u'Father of the Bride Part II (1995)']\", u\"[u'Balto (1995)']\", u\"[u'Dangerous Minds (1995)']\", u\"[u'Clueless (1995)']\", u\"[u'Richard III (1995)']\", u'[u\"Mr. Holland\\'s Opus (1995)\"]', u\"[u'Two if by Sea (1996)']\", u\"[u'Bio-Dome (1996)']\", u\"[u'Lawnmower Man 2: Beyond Cyberspace (1996)']\", u\"[u'Kicking and Screaming (1995)']\", u\"[u'Mis\\\\xc3\\\\xa9rables, Les (1995)']\", u\"[u'Nick of Time (1995)']\", u\"[u'In the Bleak Midwinter (1995)']\", u\"[u'Happy Gilmore (1996)']\", u\"[u'Bridges of Madison County, The (1995)']\", u\"[u'Rumble in the Bronx (Hont faan kui) (1995)']\", u\"[u'Before and After (1996)']\", u\"[u'Pie in the Sky (1996)']\", u\"[u'Brothers McMullen, The (1995)']\", u\"[u'Addiction, The (1995)']\", u\"[u'Batman Forever (1995)']\", u\"[u'Blue in the Face (1995)']\", u\"[u'Casper (1995)']\", u\"[u'Desperado (1995)']\", u\"[u'Doom Generation, The (1995)']\", u\"[u'First Knight (1995)']\", u\"[u'Nadja (1994)']\", u\"[u'Net, The (1995)']\", u\"[u'Strange Days (1995)']\", u\"[u'Umbrellas of Cherbourg, The (Parapluies de Cherbourg, Les) (1964)']\", u\"[u'Three Wishes (1995)']\", u'[u\"White Man\\'s Burden (1995)\"]', u\"[u'Eat Drink Man Woman (Yin shi nan nu) (1994)']\", u\"[u'Gordy (1995)']\", u\"[u'Just Cause (1995)']\", u\"[u'Little Women (1994)']\", u\"[u'Like Water for Chocolate (Como agua para chocolate) (1992)']\", u\"[u'Nell (1994)']\", u\"[u'Only You (1994)']\", u\"[u'Roommates (1995)']\", u\"[u'Three Colors: White (Trzy kolory: Bialy) (1994)']\", u\"[u'Sum of Us, The (1994)']\", u\"[u'Village of the Damned (1995)']\", u\"[u'Double Happiness (1994)']\", u\"[u'Bullets Over Broadway (1994)']\", u\"[u'Client, The (1994)']\", u\"[u'Cobb (1994)']\", u\"[u'Higher Learning (1995)']\", u\"[u'Maverick (1994)']\", u\"[u'Mrs. Parker and the Vicious Circle (1994)']\", u\"[u'Richie Rich (1994)']\", u\"[u'Safe Passage (1994)']\", u\"[u'Low Down Dirty Shame, A (1994)']\", u\"[u'Colonel Chabert, Le (1994)']\", u\"[u'Addams Family Values (1993)']\", u\"[u'Air Up There, The (1994)']\", u\"[u'Beverly Hills Cop III (1994)']\", u\"[u'Boxing Helena (1993)']\", u\"[u'Bronx Tale, A (1993)']\", u\"[u'Englishman Who Went Up a Hill But Came Down a Mountain, The (1995)']\", u\"[u'House of the Spirits, The (1993)']\", u\"[u'Inkwell, The (1994)']\", u\"[u'Lassie (1994)']\", u\"[u'Menace II Society (1993)']\", u\"[u'Mrs. Doubtfire (1993)']\", u\"[u'Perfect World, A (1993)']\", u\"[u'Piano, The (1993)']\", u'[u\"Schindler\\'s List (1993)\"]', u\"[u'Shadow, The (1994)']\", u\"[u'Shadowlands (1993)']\", u\"[u'Threesome (1994)']\", u\"[u'War Room, The (1993)']\", u\"[u'Killer (Bulletproof Heart) (1994)']\", u\"[u'Brady Bunch Movie, The (1995)']\", u\"[u'Ghost (1990)']\", u\"[u'Dances with Wolves (1990)']\", u\"[u'Beauty and the Beast (1991)']\", u\"[u'Wild Bunch, The (1969)']\", u\"[u'Love and a .45 (1994)']\", u\"[u'Loaded (1994)']\", u\"[u'Ed (1996)']\", u\"[u'Purple Noon (Plein soleil) (1960)']\", u\"[u'Kids in the Hall: Brain Candy (1996)']\", u\"[u'Underground (1995)']\", u\"[u'Coup de torchon (Clean Slate) (1981)']\", u\"[u'Promise, The (Versprechen, Das) (1995)']\", u\"[u'Visitors, The (Visiteurs, Les) (1993)']\", u\"[u'Last Dance (1996)']\", u\"[u'Ghost in the Shell (K\\\\xc3\\\\xb4kaku kid\\\\xc3\\\\xb4tai) (1995)']\", u\"[u'Thinner (1996)']\", u\"[u'Spy Hard (1996)']\", u\"[u'Stupids, The (1996)']\", u\"[u'Ashes of Time (Dung che sai duk) (1994)']\", u\"[u'Daylight (1996)']\", u\"[u'Walking and Talking (1996)']\", u\"[u'Kaspar Hauser (1993)']\"]\n",
      "79 [u\"[u'In the Line of Fire (1993)']\"]\n",
      "78 [u\"[u'Lord of Illusions (1995)']\"]\n",
      "47 [u\"[u'Faster Pussycat! Kill! Kill! (1965)']\"]\n"
     ]
    }
   ],
   "source": [
    "for cluster, movies_index in dict_x.items():\n",
    "    print cluster, [get_movie(matrix_movies(index)) for index in movies_index]"
   ]
  }
 ],
 "metadata": {
  "kernelspec": {
   "display_name": "Python 2",
   "language": "python",
   "name": "python2"
  },
  "language_info": {
   "codemirror_mode": {
    "name": "ipython",
    "version": 2
   },
   "file_extension": ".py",
   "mimetype": "text/x-python",
   "name": "python",
   "nbconvert_exporter": "python",
   "pygments_lexer": "ipython2",
   "version": "2.7.10"
  }
 },
 "nbformat": 4,
 "nbformat_minor": 0
}
