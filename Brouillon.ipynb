{
 "cells": [
  {
   "cell_type": "code",
   "execution_count": 2,
   "metadata": {
    "collapsed": true
   },
   "outputs": [],
   "source": [
    "# -*- coding: utf-8 -*-\n",
    "import pandas as pd\n",
    "import numpy as np\n",
    "import matplotlib.pyplot as plt\n",
    "from sklearn.decomposition import NMF\n",
    "import scipy.sparse as sparse\n",
    "from sklearn.cluster import KMeans\n",
    "import collections\n",
    "from sklearn.metrics import silhouette_samples, silhouette_score"
   ]
  },
  {
   "cell_type": "code",
   "execution_count": 3,
   "metadata": {
    "collapsed": false
   },
   "outputs": [],
   "source": [
    "#Reading users file:\n",
    "movies = pd.read_csv('//home/ink/Documents/2016_2017/Analyse de Donnée/Projet_Analyse/movies.csv', sep = \",\",\n",
    "encoding='latin-1')\n"
   ]
  },
  {
   "cell_type": "code",
   "execution_count": 45,
   "metadata": {
    "collapsed": false
   },
   "outputs": [
    {
     "data": {
      "text/plain": [
       "u'Toy Story (1995)'"
      ]
     },
     "execution_count": 45,
     "metadata": {},
     "output_type": "execute_result"
    }
   ],
   "source": [
    "def binary(x):\n",
    "    \"\"\"Renvoie une note binaire, 1 si l'utilisateur a mis plus de 2.5 au film, sinon 0\"\"\"\n",
    "    if x <= 2.5:\n",
    "        return 0\n",
    "    else:\n",
    "        return 1\n",
    "\n",
    "def get_movie(id):\n",
    "    \"\"\"Renvoie le titre du film a partir de son movieId dans le fichier movies.csv\"\"\"\n",
    "    return unicode(movies[movies['movieId']==id]['title'].values[0])\n"
   ]
  },
  {
   "cell_type": "code",
   "execution_count": 30,
   "metadata": {
    "collapsed": false
   },
   "outputs": [
    {
     "data": {
      "text/plain": [
       "(9065, (100004,), (9066,))"
      ]
     },
     "execution_count": 30,
     "metadata": {},
     "output_type": "execute_result"
    }
   ],
   "source": [
    "df_movie.max(), df_movie.shape, df_movie.unique().shape\n"
   ]
  },
  {
   "cell_type": "code",
   "execution_count": 31,
   "metadata": {
    "collapsed": false
   },
   "outputs": [
    {
     "data": {
      "text/plain": [
       "(671, (100004,), (671,))"
      ]
     },
     "execution_count": 31,
     "metadata": {},
     "output_type": "execute_result"
    }
   ],
   "source": [
    "df_users.max(), df_users.shape, df_users.unique().shape"
   ]
  },
  {
   "cell_type": "code",
   "execution_count": 48,
   "metadata": {
    "collapsed": true
   },
   "outputs": [],
   "source": [
    "ratings = pd.read_csv(\"/home/ink/Documents/2016_2017/Analyse de Donnée/Projet_Analyse/NouveauRatings.csv\", sep = \",\",\n",
    "encoding='latin-1')\n",
    "#Reading file ratings.csv"
   ]
  },
  {
   "cell_type": "code",
   "execution_count": 49,
   "metadata": {
    "collapsed": false
   },
   "outputs": [
    {
     "name": "stdout",
     "output_type": "stream",
     "text": [
      "        Unnamed: 0  index  userId  movieId  rating   timestamp  movies_matrix\n",
      "0                0   9713      68        1     4.0  1194741818              0\n",
      "1                1  35933     261        1     1.5  1101665532              0\n",
      "2                2  52631     383        1     5.0   852806429              0\n",
      "3                3  35983     262        1     2.5  1433898798              0\n",
      "4                4  12038      77        1     4.0  1163005363              0\n",
      "5                5  72180     506        1     4.0   865395296              0\n",
      "6                6  85228     574        1     4.0  1232811316              0\n",
      "7                7  72201     507        1     3.0   862090954              0\n",
      "8                8  84897     570        1     1.5  1475783711              0\n",
      "9                9  84775     568        1     3.0   835002305              0\n",
      "10              10  37069     268        1     5.0  1314894068              0\n",
      "11              11  52317     382        1     3.5  1371772711              0\n",
      "12              12   4008      23        1     3.0  1148729853              0\n",
      "13              13  72287     509        1     3.0   939329344              0\n",
      "14              14  37795     272        1     4.0  1453587590              0\n",
      "15              15  85570     575        1     3.0  1012595781              0\n",
      "16              16  37834     273        1     4.5  1466945564              0\n",
      "17              17   7375      48        1     4.0  1318796720              0\n",
      "18              18  38460     282        1     4.0  1111493773              0\n",
      "19              19   7337      47        1     5.0   832228931              0\n",
      "20              20  38587     283        1     3.0  1114997963              0\n",
      "21              21  51144     380        1     4.0  1048092869              0\n",
      "22              22  51073     379        1     3.5  1378180411              0\n",
      "23              23  38776     284        1     3.0   853878868              0\n",
      "24              24  38828     285        1     4.0   965091874              0\n",
      "25              25  39293     287        1     5.0  1469161081              0\n",
      "26              26   7252      44        1     4.0   858707138              0\n",
      "27              27  73210     510        1     1.0   944346953              0\n",
      "28              28  82824     564        1     4.0   974712079              0\n",
      "29              29  39796     292        1     4.0  1140049726              0\n",
      "...            ...    ...     ...      ...     ...         ...            ...\n",
      "99974        99974  38245     277   159093     3.0  1466684839           9040\n",
      "99975        99975   2651      15   159093     1.0  1465793091           9040\n",
      "99976        99976  11820      73   159462     3.0  1469772608           9041\n",
      "99977        99977   2652      15   159690     2.0  1465880080           9042\n",
      "99978        99978   2653      15   159755     1.0  1465793093           9043\n",
      "99979        99979   2654      15   159858     4.0  1466802910           9044\n",
      "99980        99980  11821      73   159858     3.5  1473060620           9044\n",
      "99981        99981   2655      15   159972     0.5  1469330481           9045\n",
      "99982        99982   2656      15   160080     1.0  1469330238           9046\n",
      "99983        99983   2657      15   160271     2.5  1466802905           9047\n",
      "99984        99984   9415      62   160438     4.0  1470457197           9048\n",
      "99985        99985  39544     287   160438     4.5  1470166791           9048\n",
      "99986        99986  95266     624   160440     1.5  1470510722           9049\n",
      "99987        99987   2658      15   160563     1.0  1469330270           9050\n",
      "99988        99988  39545     287   160563     4.0  1469161444           9050\n",
      "99989        99989   2659      15   160565     2.0  1469330266           9051\n",
      "99990        99990   2660      15   160567     4.0  1469330242           9052\n",
      "99991        99991   8781      56   160590     5.0  1467095789           9053\n",
      "99992        99992  80820     547   160656     3.5  1471168466           9054\n",
      "99993        99993  80821     547   160718     4.0  1469713151           9055\n",
      "99994        99994  80822     547   161084     2.5  1468248331           9056\n",
      "99995        99995   2661      15   161155     0.5  1469330307           9057\n",
      "99996        99996  11822      73   161594     3.0  1474255459           9058\n",
      "99997        99997  95267     624   161830     1.0  1472493010           9059\n",
      "99998        99998  95268     624   161918     1.5  1472929873           9060\n",
      "99999        99999  39546     287   161944     5.0  1470167824           9061\n",
      "100000      100000  11823      73   162376     4.5  1474255532           9062\n",
      "100001      100001  92339     611   162542     5.0  1471520667           9063\n",
      "100002      100002  92340     611   162672     3.0  1471523986           9064\n",
      "100003      100003  80823     547   163949     5.0  1476419239           9065\n",
      "\n",
      "[100004 rows x 7 columns]\n",
      "(9066, 671)\n"
     ]
    }
   ],
   "source": [
    "df = pd.DataFrame(ratings)\n",
    "df_movie = df.movies_matrix\n",
    "df_users = df.userId\n",
    "df_rating = df.rating\n",
    "\n",
    "shape = len(df_movie.unique()), len(df_users.unique())\n",
    "print shape"
   ]
  },
  {
   "cell_type": "code",
   "execution_count": 10,
   "metadata": {
    "collapsed": false
   },
   "outputs": [],
   "source": [
    "#matrix_movies={}\n",
    "#for k, v in enumerate(df_movie.unique()):\n",
    "#    matrix_movies[k] = v"
   ]
  },
  {
   "cell_type": "code",
   "execution_count": 27,
   "metadata": {
    "collapsed": false
   },
   "outputs": [
    {
     "data": {
      "text/plain": [
       "u'Toy Story (1995)'"
      ]
     },
     "execution_count": 27,
     "metadata": {},
     "output_type": "execute_result"
    }
   ],
   "source": [
    "get_movie(matrix_movies(0))"
   ]
  },
  {
   "cell_type": "code",
   "execution_count": 13,
   "metadata": {
    "collapsed": true
   },
   "outputs": [],
   "source": [
    "#movies_matrix = {v: k for k, v in matrix_movies.iteritems()}"
   ]
  },
  {
   "cell_type": "code",
   "execution_count": 41,
   "metadata": {
    "collapsed": false
   },
   "outputs": [
    {
     "ename": "IndexError",
     "evalue": "index 0 is out of bounds for axis 0 with size 0",
     "output_type": "error",
     "traceback": [
      "\u001b[1;31m---------------------------------------------------------------------------\u001b[0m",
      "\u001b[1;31mIndexError\u001b[0m                                Traceback (most recent call last)",
      "\u001b[1;32m<ipython-input-41-6b6012b8f2ba>\u001b[0m in \u001b[0;36m<module>\u001b[1;34m()\u001b[0m\n\u001b[0;32m      2\u001b[0m     \u001b[1;32mreturn\u001b[0m \u001b[0mratings\u001b[0m\u001b[1;33m[\u001b[0m\u001b[0mratings\u001b[0m\u001b[1;33m[\u001b[0m\u001b[1;34m\"movieId\"\u001b[0m\u001b[1;33m]\u001b[0m\u001b[1;33m==\u001b[0m\u001b[0mId\u001b[0m\u001b[1;33m]\u001b[0m\u001b[1;33m[\u001b[0m\u001b[1;34m\"movies_matrix\"\u001b[0m\u001b[1;33m]\u001b[0m\u001b[1;33m.\u001b[0m\u001b[0mvalues\u001b[0m\u001b[1;33m[\u001b[0m\u001b[1;36m0\u001b[0m\u001b[1;33m]\u001b[0m\u001b[1;33m\u001b[0m\u001b[0m\n\u001b[0;32m      3\u001b[0m \u001b[1;33m\u001b[0m\u001b[0m\n\u001b[1;32m----> 4\u001b[1;33m \u001b[0mget_movie\u001b[0m\u001b[1;33m(\u001b[0m\u001b[0mmovies_matrix\u001b[0m\u001b[1;33m(\u001b[0m\u001b[1;36m163949\u001b[0m\u001b[1;33m)\u001b[0m\u001b[1;33m)\u001b[0m\u001b[1;33m\u001b[0m\u001b[0m\n\u001b[0m",
      "\u001b[1;32m<ipython-input-38-4159a4c98ca4>\u001b[0m in \u001b[0;36mget_movie\u001b[1;34m(id)\u001b[0m\n\u001b[0;32m      6\u001b[0m \u001b[1;33m\u001b[0m\u001b[0m\n\u001b[0;32m      7\u001b[0m \u001b[1;32mdef\u001b[0m \u001b[0mget_movie\u001b[0m\u001b[1;33m(\u001b[0m\u001b[0mid\u001b[0m\u001b[1;33m)\u001b[0m\u001b[1;33m:\u001b[0m\u001b[1;33m\u001b[0m\u001b[0m\n\u001b[1;32m----> 8\u001b[1;33m     \u001b[1;32mreturn\u001b[0m \u001b[0municode\u001b[0m\u001b[1;33m(\u001b[0m\u001b[0mmovies\u001b[0m\u001b[1;33m[\u001b[0m\u001b[0mmovies\u001b[0m\u001b[1;33m[\u001b[0m\u001b[1;34m'movieId'\u001b[0m\u001b[1;33m]\u001b[0m\u001b[1;33m==\u001b[0m\u001b[0mid\u001b[0m\u001b[1;33m]\u001b[0m\u001b[1;33m[\u001b[0m\u001b[1;34m'title'\u001b[0m\u001b[1;33m]\u001b[0m\u001b[1;33m.\u001b[0m\u001b[0mvalues\u001b[0m\u001b[1;33m[\u001b[0m\u001b[1;36m0\u001b[0m\u001b[1;33m]\u001b[0m\u001b[1;33m)\u001b[0m\u001b[1;33m\u001b[0m\u001b[0m\n\u001b[0m\u001b[0;32m      9\u001b[0m \u001b[1;33m\u001b[0m\u001b[0m\n\u001b[0;32m     10\u001b[0m \u001b[0mget_movie\u001b[0m\u001b[1;33m(\u001b[0m\u001b[1;36m0\u001b[0m\u001b[1;33m)\u001b[0m\u001b[1;33m\u001b[0m\u001b[0m\n",
      "\u001b[1;31mIndexError\u001b[0m: index 0 is out of bounds for axis 0 with size 0"
     ]
    }
   ],
   "source": [
    "def movies_matrix(Id): \n",
    "    return ratings[ratings[\"movieId\"]==Id][\"movies_matrix\"].values[0]\n",
    "\n",
    "get_movie(movies_matrix(163949))"
   ]
  },
  {
   "cell_type": "code",
   "execution_count": 42,
   "metadata": {
    "collapsed": false
   },
   "outputs": [
    {
     "data": {
      "text/plain": [
       "163949"
      ]
     },
     "execution_count": 42,
     "metadata": {},
     "output_type": "execute_result"
    }
   ],
   "source": [
    "def matrix_movies(index):\n",
    "    return ratings[ratings[\"movies_matrix\"]==index][\"movieId\"].values[0]\n"
   ]
  },
  {
   "cell_type": "code",
   "execution_count": 32,
   "metadata": {
    "collapsed": false
   },
   "outputs": [],
   "source": [
    "movie_index = range(9066)"
   ]
  },
  {
   "cell_type": "code",
   "execution_count": 33,
   "metadata": {
    "collapsed": false
   },
   "outputs": [
    {
     "data": {
      "text/plain": [
       "(9066, 671)"
      ]
     },
     "execution_count": 33,
     "metadata": {},
     "output_type": "execute_result"
    }
   ],
   "source": [
    "shape"
   ]
  },
  {
   "cell_type": "code",
   "execution_count": 34,
   "metadata": {
    "collapsed": false
   },
   "outputs": [
    {
     "data": {
      "text/plain": [
       "(0, 9065)"
      ]
     },
     "execution_count": 34,
     "metadata": {},
     "output_type": "execute_result"
    }
   ],
   "source": [
    "df_movie.values.min(), df_movie.values.max()"
   ]
  },
  {
   "cell_type": "code",
   "execution_count": 35,
   "metadata": {
    "collapsed": false
   },
   "outputs": [
    {
     "data": {
      "text/plain": [
       "(1, 671, (671,))"
      ]
     },
     "execution_count": 35,
     "metadata": {},
     "output_type": "execute_result"
    }
   ],
   "source": [
    "df_users.values.min(), df_users.values.max(), df_users.unique().shape"
   ]
  },
  {
   "cell_type": "markdown",
   "metadata": {},
   "source": [
    "users index must be between 0 and 670"
   ]
  },
  {
   "cell_type": "code",
   "execution_count": 47,
   "metadata": {
    "collapsed": false,
    "scrolled": true
   },
   "outputs": [
    {
     "name": "stdout",
     "output_type": "stream",
     "text": [
      "  (67, 0)\t4.0\n",
      "  (260, 0)\t1.5\n",
      "  (382, 0)\t5.0\n",
      "  (261, 0)\t2.5\n",
      "  (76, 0)\t4.0\n",
      "  (505, 0)\t4.0\n",
      "  (573, 0)\t4.0\n",
      "  (506, 0)\t3.0\n",
      "  (569, 0)\t1.5\n",
      "  (567, 0)\t3.0\n",
      "  (267, 0)\t5.0\n",
      "  (381, 0)\t3.5\n",
      "  (22, 0)\t3.0\n",
      "  (508, 0)\t3.0\n",
      "  (271, 0)\t4.0\n",
      "  (574, 0)\t3.0\n",
      "  (272, 0)\t4.5\n",
      "  (47, 0)\t4.0\n",
      "  (281, 0)\t4.0\n",
      "  (46, 0)\t5.0\n",
      "  (282, 0)\t3.0\n",
      "  (379, 0)\t4.0\n",
      "  (378, 0)\t3.5\n",
      "  (283, 0)\t3.0\n",
      "  (284, 0)\t4.0\n",
      "  :\t:\n",
      "  (14, 9044)\t4.0\n",
      "  (72, 9044)\t3.5\n",
      "  (14, 9045)\t0.5\n",
      "  (14, 9046)\t1.0\n",
      "  (14, 9047)\t2.5\n",
      "  (61, 9048)\t4.0\n",
      "  (286, 9048)\t4.5\n",
      "  (623, 9049)\t1.5\n",
      "  (14, 9050)\t1.0\n",
      "  (286, 9050)\t4.0\n",
      "  (14, 9051)\t2.0\n",
      "  (14, 9052)\t4.0\n",
      "  (55, 9053)\t5.0\n",
      "  (546, 9054)\t3.5\n",
      "  (546, 9055)\t4.0\n",
      "  (546, 9056)\t2.5\n",
      "  (14, 9057)\t0.5\n",
      "  (72, 9058)\t3.0\n",
      "  (623, 9059)\t1.0\n",
      "  (623, 9060)\t1.5\n",
      "  (286, 9061)\t5.0\n",
      "  (72, 9062)\t4.5\n",
      "  (610, 9063)\t5.0\n",
      "  (610, 9064)\t3.0\n",
      "  (546, 9065)\t5.0\n"
     ]
    }
   ],
   "source": [
    "coo = sparse.coo_matrix((df_rating, ((df_movie.values),(df_users.values-1))), shape=shape)\n",
    "coo = coo.T\n",
    "print coo"
   ]
  },
  {
   "cell_type": "code",
   "execution_count": 52,
   "metadata": {
    "collapsed": false
   },
   "outputs": [
    {
     "name": "stdout",
     "output_type": "stream",
     "text": [
      "defaultdict(<type 'list'>, {'24': [298], '25': [480], '26': [574], '27': [305], '20': [471], '21': [18, 513], '22': [293], '23': [6, 7, 20, 21, 40, 62, 67, 74, 94, 96, 100, 119, 136, 138, 145, 147, 154, 158, 174, 176, 177, 184, 196, 200, 215, 216, 227, 233, 238, 243, 246, 247, 270, 281, 290, 308, 327, 345, 349, 362, 366, 369, 400, 407, 416, 419, 438, 440, 457, 470, 485, 518, 522, 524, 526, 532, 549, 558, 593, 596, 602, 645, 654, 670], '28': [579], '29': [118], '0': [559], '4': [72], '8': [37, 41, 60, 83, 88, 90, 93, 103, 123, 137, 148, 151, 168, 175, 199, 204, 249, 250, 269, 272, 315, 323, 332, 338, 361, 370, 378, 383, 417, 427, 432, 449, 455, 472, 477, 478, 482, 499, 500, 521, 541, 552, 562, 569, 571, 583, 598, 619, 622, 626, 659], '59': [381], '58': [406], '55': [127], '54': [219], '57': [267], '56': [528], '51': [241], '50': [604], '53': [393, 429], '52': [17, 24, 43, 54, 69, 79, 86, 89, 99, 111, 112, 153, 161, 172, 210, 232, 251, 255, 328, 342, 360, 382, 389, 412, 458, 483, 489, 501, 506, 529, 542, 635, 639, 649], '88': [479], '89': [16], '82': [401], '83': [311], '80': [647], '81': [282], '86': [422], '87': [194], '84': [357], '85': [77], '3': [563], '7': [623], '39': [186], '38': [543], '33': [508], '32': [133], '31': [0, 2, 4, 5, 8, 9, 10, 11, 12, 13, 15, 26, 27, 28, 30, 32, 34, 36, 39, 42, 44, 45, 48, 50, 51, 52, 53, 57, 58, 59, 61, 64, 65, 70, 73, 75, 78, 80, 95, 97, 102, 105, 106, 108, 114, 115, 116, 122, 126, 128, 130, 131, 132, 134, 135, 139, 140, 141, 142, 146, 152, 155, 157, 162, 163, 165, 166, 169, 170, 173, 178, 179, 180, 182, 185, 188, 189, 195, 197, 201, 202, 203, 205, 206, 207, 208, 209, 214, 217, 220, 221, 225, 226, 228, 229, 230, 236, 237, 245, 254, 256, 257, 258, 259, 262, 263, 266, 268, 271, 273, 275, 276, 277, 279, 285, 288, 289, 292, 295, 296, 297, 299, 300, 304, 306, 309, 313, 314, 319, 321, 322, 324, 325, 326, 330, 331, 333, 334, 335, 336, 339, 340, 346, 347, 348, 350, 351, 355, 358, 359, 363, 364, 365, 367, 371, 373, 375, 376, 377, 385, 391, 392, 394, 396, 397, 398, 402, 403, 405, 409, 410, 411, 413, 418, 423, 424, 428, 431, 434, 435, 437, 442, 443, 444, 445, 447, 450, 452, 453, 461, 464, 466, 468, 469, 473, 475, 476, 481, 484, 487, 488, 490, 491, 493, 497, 498, 502, 503, 505, 510, 511, 514, 520, 523, 525, 527, 530, 531, 538, 539, 540, 545, 548, 553, 556, 564, 565, 566, 570, 572, 575, 577, 578, 580, 581, 582, 585, 590, 599, 600, 603, 605, 608, 609, 610, 611, 612, 613, 616, 617, 620, 621, 624, 625, 627, 629, 630, 631, 633, 634, 636, 637, 641, 642, 643, 644, 650, 655, 660, 662, 667, 668, 669], '30': [29], '37': [198], '36': [231], '35': [379], '34': [129], '60': [284], '61': [595], '62': [517], '63': [536], '64': [576], '65': [47], '66': [25, 573, 663], '67': [286], '68': [164], '69': [55], '2': [546], '6': [76, 87, 92, 124, 239, 242, 252, 291, 312, 344, 354, 430, 441, 519, 561, 597], '99': [352], '98': [465], '91': [404], '90': [3], '93': [474], '92': [302], '95': [557], '94': [584], '97': [607], '96': [110], '11': [71, 156, 614], '10': [451], '13': [22], '12': [310], '15': [33, 117, 213, 646], '14': [222, 283, 317, 615], '17': [14], '16': [460], '19': [212], '18': [68, 82, 98, 159, 192, 218, 234, 244, 303, 320, 329, 341, 372, 380, 390, 421, 433, 459, 492, 496, 509, 544, 568, 594, 657], '48': [104], '49': [261], '46': [651], '47': [426], '44': [462], '45': [211], '42': [101], '43': [606], '40': [586], '41': [274], '1': [56, 235, 264, 504], '5': [1, 35, 66, 84, 85, 91, 109, 120, 150, 160, 167, 181, 187, 253, 287, 343, 384, 395, 415, 446, 486, 495, 515, 533, 535, 547, 589, 592, 601, 640, 648, 658], '9': [387], '77': [149, 591], '76': [467], '75': [653], '74': [294], '73': [386], '72': [456], '71': [664], '70': [19, 23, 31, 38, 46, 49, 63, 81, 107, 113, 121, 125, 143, 144, 171, 183, 190, 191, 193, 223, 224, 240, 248, 260, 265, 278, 280, 301, 307, 316, 318, 337, 353, 356, 368, 374, 388, 399, 408, 414, 420, 436, 439, 448, 454, 463, 494, 507, 512, 516, 534, 537, 550, 551, 554, 555, 567, 587, 588, 618, 628, 632, 638, 652, 656, 661, 665, 666], '79': [425], '78': [560]})\n"
     ]
    }
   ],
   "source": [
    "dict_x = collections.defaultdict(list)\n",
    "labeler = KMeans(n_clusters=100, random_state=0).fit(coo)\n",
    "labeler.labels_\n",
    "# convert coo to csr format \n",
    "# note: Kmeans currently only works with CSR type sparse matrix \n",
    "\n",
    "#faire un dictionnaire de film avec en clé le label\n",
    "# print cluster assignments for each row \n",
    "for (row, label) in enumerate(labeler.labels_):\n",
    "    dict_x[str(label)].append(row)\n",
    "print dict_x"
   ]
  },
  {
   "cell_type": "code",
   "execution_count": 50,
   "metadata": {
    "collapsed": false,
    "scrolled": false
   },
   "outputs": [
    {
     "name": "stdout",
     "output_type": "stream",
     "text": [
      "24 [u'Cowboy Way, The (1994)']\n",
      "25 [u'Shawshank Redemption, The (1994)']\n",
      "26 [u'Cabin Boy (1994)']\n",
      "27 [u'Jade (1995)']\n",
      "20 [u'Savage Nights (Nuits fauves, Les) (1992)']\n",
      "21 [u'Simple Twist of Fate, A (1994)']\n",
      "22 [u'Fled (1996)']\n",
      "23 [u'Cutthroat Island (1995)']\n",
      "28 [u'Confessional, The (Confessionnal, Le) (1995)']\n",
      "29 [u'Short Cuts (1993)']\n",
      "0 [u'Vampire in Brooklyn (1995)']\n",
      "4 [u'Scream of Stone (Cerro Torre: Schrei aus Stein) (1991)']\n",
      "8 [u'Renaissance Man (1994)']\n",
      "59 [u'Beauty of the Day (Belle de jour) (1967)']\n",
      "58 [u'Horseman on the Roof, The (Hussard sur le toit, Le) (1995)']\n",
      "55 [u'Homeward Bound II: Lost in San Francisco (1996)']\n",
      "54 [u'Guilty as Sin (1993)']\n",
      "57 [u\"Heaven's Prisoners (1996)\"]\n",
      "56 [u'M\\xc3\\xa9tisse (Caf\\xc3\\xa9 au Lait) (1993)']\n",
      "51 [u'Perez Family, The (1995)', u'Mrs. Winterbourne (1996)']\n",
      "50 [u'Gate of Heavenly Peace, The (1995)']\n",
      "53 [u'Cops and Robbersons (1994)']\n",
      "52 [u'War, The (1994)']\n",
      "88 [u'Tie That Binds, The (1995)']\n",
      "89 [u'Hackers (1995)']\n",
      "82 [u'Lord of Illusions (1995)']\n",
      "83 [u'Ladybird Ladybird (1994)']\n",
      "80 [u'Searching for Bobby Fischer (1993)']\n",
      "81 [u'Song of the Little Road (Pather Panchali) (1955)']\n",
      "86 [u'Cosi (1996)']\n",
      "87 [u'Disclosure (1994)']\n",
      "84 [u'Mulholland Falls (1996)']\n",
      "85 [u'Three Colors: Red (Trois couleurs: Rouge) (1994)']\n",
      "3 [u'RoboCop 3 (1993)']\n",
      "7 [u'Crossing Guard, The (1995)']\n",
      "39 [u'Four Rooms (1995)', u'Leaving Las Vegas (1995)', u'To Die For (1995)', u'Postman, The (Postino, Il) (1994)', u'Bed of Roses (1996)', u'Angels and Insects (1995)', u'Beautiful Girls (1996)', u'Hate (Haine, La) (1995)', u'Catwalk (1996)', u'Chungking Express (Chung Hing sam lam) (1994)', u'Jury Duty (1995)', u'Mute Witness (1994)', u'Something to Talk About (1995)', u'Far From Home: The Adventures of Yellow Dog (1995)', u'Heavyweights (Heavy Weights) (1995)', u'Star Wars: Episode IV - A New Hope (1977)', u'My Family (1995)', u'New Jersey Drive (1995)', u'Santa Clause, The (1994)', u'Crooklyn (1994)', u'Lion King, The (1994)', u'Speechless (1994)', u'Above the Rim (1994)', u'Clean Slate (1994)', u'Dave (1993)', u'Hard Target (1993)', u'Life with Mikey (1993)', u'Puppet Masters, The (1994)', u'Sleepless in Seattle (1993)', u'Super Mario Bros. (1993)', u'Paris, France (1993)', u'Cronos (1993)', u'Pretty Woman (1990)', u'Bread and Chocolate (Pane e cioccolata) (1973)', u'Rock, The (1996)', u'Striptease (1996)', u'Grass Harp, The (1995)', u'Kingpin (1996)']\n",
      "38 [u'Ref, The (1994)']\n",
      "33 [u'Adventures of Priscilla, Queen of the Desert, The (1994)']\n",
      "32 [u'Nine Months (1995)']\n",
      "31 [u'Assassins (1995)']\n",
      "30 [u'Cliffhanger (1993)']\n",
      "37 [u'Ace Ventura: When Nature Calls (1995)', u'Little Rascals, The (1994)']\n",
      "36 [u'Kiss of Death (1995)']\n",
      "35 [u'Pinocchio (1940)']\n",
      "34 [u'Free Willy (1993)']\n",
      "60 [u'My Crazy Life (Mi vida loca) (1993)']\n",
      "61 [u'World of Apu, The (Apur Sansar) (1959)']\n",
      "62 [u'Killing Zoe (1994)']\n",
      "63 [u'Jumanji (1995)', u'Across the Sea of Time (1995)', u'Mary Reilly (1996)', u'Heidi Fleiss: Hollywood Madam (1995)', u'Boys of St. Vincent, The (1992)', u'Man of the Year (1995)', u'Amazing Panda Adventure, The (1995)', u'Jeffrey (1995)', u'Mighty Morphin Power Rangers: The Movie (1995)', u'Reckless (1995)', u'Unstrung Heroes (1995)', u'Burnt by the Sun (Utomlyonnye solntsem) (1994)', u\"Nobody's Fool (1994)\", u'Strawberry and Chocolate (Fresa y chocolate) (1993)', u'Red Rock West (1992)', u'Timecop (1994)', u'Being Human (1993)', u'Coneheads (1993)', u'Farewell My Concubine (Ba wang bie ji) (1993)', u'With Honors (1994)', u'Live Nude Girls (1995)', u'Mr. Wonderful (1993)', u'Son in Law (1993)', u'Three Musketeers, The (1993)', u'Princess Caraboo (1994)', u'One Fine Day (1996)', u'Candyman: Farewell to the Flesh (1995)', u'My Favorite Season (1993)', u'True Crime (1996)', u'Delta of Venus (1995)', u'Celtic Pride (1996)', u'Marlene Dietrich: Shadow and Light (1996)', u'Cable Guy, The (1996)', u'Phenomenon (1996)', u'Time to Kill, A (1996)']\n",
      "64 [u\"Widows' Peak (1994)\"]\n",
      "65 [u'Sense and Sensibility (1995)']\n",
      "66 [u'Operation Dumbo Drop (1995)']\n",
      "67 [u'Mr. Wrong (1996)']\n",
      "68 [u'Tommy Boy (1995)']\n",
      "69 [u\"Margaret's Museum (1995)\"]\n",
      "2 [u'Waiting to Exhale (1995)', u'Sabrina (1995)', u'Get Shorty (1995)', u'Carrington (1995)', u'Dead Presidents (1995)', u'Indian in the Cupboard, The (1995)', u'Lawnmower Man 2: Beyond Cyberspace (1996)', u'Black Sheep (1996)', u'Frankie Starlight (1995)', u'Canadian Bacon (1995)', u'First Knight (1995)', u'Kids (1995)', u'Waterworld (1995)', u'Clerks (1994)', u'Fluke (1995)', u'Gumby: The Movie (1995)', u'Legends of the Fall (1994)', u'Man of the House (1995)', u'Mixed Nuts (1994)', u\"National Lampoon's Senior Trip (1995)\", u'Speed (1994)', u'Age of Innocence, The (1993)', u'Bad Girls (1994)', u'Blink (1994)', u'Flesh and Bone (1993)', u'Geronimo: An American Legend (1993)', u'Hudsucker Proxy, The (1994)', u'In the Line of Fire (1993)', u'Man Without a Face, The (1993)', u'Tombstone (1993)', u'Batman (1989)', u'Bye Bye, Love (1995)', u'Last Supper, The (1995)', u'Girl 6 (1996)', u'Diabolique (1996)', u'Feeling Minnesota (1996)', u'Angus (1995)', u'Faces (1968)', u'Quest, The (1996)', u'Flipper (1996)', u'Stealing Beauty (1996)']\n",
      "6 [u'Force of Evil (1948)']\n",
      "99 [u'Priest (1994)', u'Mission: Impossible (1996)']\n",
      "98 [u'Backbeat (1993)']\n",
      "91 [u'Once Upon a Time... When We Were Colored (1995)']\n",
      "90 [u'Drop Zone (1994)']\n",
      "93 [u'Brady Bunch Movie, The (1995)']\n",
      "92 [u'Courage Under Fire (1996)']\n",
      "95 [u'Wallace & Gromit: The Best of Aardman Animation (1996)', u'Fan, The (1996)']\n",
      "94 [u'Poison Ivy II (1996)']\n",
      "97 [u'Bitter Moon (1992)']\n",
      "96 [u\"My Life and Times With Antonin Artaud (En compagnie d'Antonin Artaud) (1993)\"]\n",
      "11 [u'Othello (1995)', u'Dangerous Minds (1995)', u'Clueless (1995)', u'Richard III (1995)', u'Restoration (1995)', u'Two if by Sea (1996)', u'Bio-Dome (1996)', u'Nico Icon (1995)', u'Nick of Time (1995)', u'In the Bleak Midwinter (1995)', u'Shopping (1994)', u'Happy Gilmore (1996)', u'Braveheart (1995)', u'Before and After (1996)', u'Brothers McMullen, The (1995)', u'Blue in the Face (1995)', u'Casper (1995)', u'Desperado (1995)', u'Doom Generation, The (1995)', u'Free Willy 2: The Adventure Home (1995)', u'Nadja (1994)', u'Net, The (1995)', u'Safe (1995)', u'Umbrellas of Cherbourg, The (Parapluies de Cherbourg, Les) (1964)', u'Three Wishes (1995)', u'Eat Drink Man Woman (Yin shi nan nu) (1994)', u'Gordy (1995)', u'Jerky Boys, The (1995)', u'Just Cause (1995)', u'Losing Isaiah (1995)', u'Madness of King George, The (1994)', u'Miracle on 34th Street (1994)', u'Miami Rhapsody (1995)', u'Nell (1994)', u'Picture Bride (Bijo photo) (1994)', u'Queen Margot (Reine Margot, La) (1994)', u'Roommates (1995)', u'Tom & Viv (1994)', u'Village of the Damned (1995)', u'Virtuosity (1995)', u'Double Happiness (1994)', u'Baby-Sitters Club, The (1995)', u'Cobb (1994)', u'Maverick (1994)', u'Richie Rich (1994)', u'Low Down Dirty Shame, A (1994)', u'Colonel Chabert, Le (1994)', u'Addams Family Values (1993)', u'Beverly Hillbillies, The (1993)', u'Beverly Hills Cop III (1994)', u'Boxing Helena (1993)', u'Bronx Tale, A (1993)', u'Inkwell, The (1994)', u'Lassie (1994)', u'Menace II Society (1993)', u'Next Karate Kid, The (1994)', u'Perfect World, A (1993)', u'Piano, The (1993)', u'Poetic Justice (1993)', u\"Schindler's List (1993)\", u'Shadow, The (1994)', u'Shadowlands (1993)', u'Six Degrees of Separation (1993)', u'Blade Runner (1982)', u'Threesome (1994)', u'Pagemaster, The (1994)', u'Killer (Bulletproof Heart) (1994)', u'Ghost (1990)', u'Aladdin (1992)', u'Snow White and the Seven Dwarfs (1937)', u'Beauty and the Beast (1991)', u'Loaded (1994)', u'Moll Flanders (1996)', u'Purple Noon (Plein soleil) (1960)', u'Kids in the Hall: Brain Candy (1996)', u'Underground (1995)', u'Promise, The (Versprechen, Das) (1995)', u'Last Dance (1996)', u'Ghost in the Shell (K\\xc3\\xb4kaku kid\\xc3\\xb4tai) (1995)', u'Spy Hard (1996)', u'Hunchback of Notre Dame, The (1996)', u'Daylight (1996)', u'Walking and Talking (1996)']\n",
      "10 [u'Father of the Bride Part II (1995)', u'Tom and Huck (1995)', u'Copycat (1995)', u'Kicking and Screaming (1995)', u'Mis\\xc3\\xa9rables, Les (1995)', u'White Balloon, The (Badkonake sefid) (1995)', u\"Antonia's Line (Antonia) (1995)\", u'Broken Arrow (1996)', u'City Hall (1996)', u'Bottle Rocket (1996)', u'Muppet Treasure Island (1996)', u'Down Periscope (1996)', u'Bad Boys (1995)', u'Awfully Big Adventure, An (1995)', u'Johnny Mnemonic (1995)', u'Mad Love (1995)', u'Strange Days (1995)', u'Browning Version, The (1994)', u'Destiny Turns on the Radio (1995)', u'Hoop Dreams (1994)', u'Little Women (1994)', u'Little Princess, A (1995)', u'Major Payne (1995)', u'Love Affair (1994)', u'Specialist, The (1994)', u'Stargate (1994)', u'To Live (Huozhe) (1994)', u'Star Trek: Generations (1994)', u\"What's Eating Gilbert Grape (1993)\", u'Higher Learning (1995)', u'Wonderful, Horrible Life of Leni Riefenstahl, The (Macht der Bilder: Leni Riefenstahl, Die) (1993)', u'True Lies (1994)', u\"City Slickers II: The Legend of Curly's Gold (1994)\", u'Even Cowgirls Get the Blues (1993)', u'Englishman Who Went Up a Hill But Came Down a Mountain, The (1995)', u'House of the Spirits, The (1993)', u\"What's Love Got to Do with It? (1993)\", u'Jurassic Park (1993)', u'King of the Hill (1993)', u'Last Action Hero (1993)', u'Executive Decision (1996)', u'Program, The (1993)', u'Rudy (1993)', u'War Room, The (1993)', u'Home Alone (1990)', u'Terminator 2: Judgment Day (1991)', u'Wild Bunch, The (1969)', u'Space Jam (1996)', u'Country Life (1994)', u'Wallace & Gromit: A Close Shave (1995)', u'Dr. Strangelove or: How I Learned to Stop Worrying and Love the Bomb (1964)', u'Kaspar Hauser (1993)']\n",
      "13 [u'Murder in the First (1995)']\n",
      "12 [u'Tales from the Crypt Presents: Demon Knight (1995)']\n",
      "15 [u'Hideaway (1995)']\n",
      "14 [u'North (1994)']\n",
      "17 [u'Shanghai Triad (Yao a yao yao dao waipo qiao) (1995)']\n",
      "16 [u'Money Train (1995)', u'Powder (1995)', u'Twelve Monkeys (a.k.a. 12 Monkeys) (1995)', u'Cry, the Beloved Country (1995)', u'Pocahontas (1995)', u'Mighty Aphrodite (1995)', u'French Twist (Gazon maudit) (1995)', u'Fair Game (1995)', u'Dunston Checks In (1996)', u'If Lucy Fell (1996)', u'Flirting With Disaster (1996)', u'Up Close and Personal (1996)', u'Devil in a Blue Dress (1995)', u'Die Hard: With a Vengeance (1995)', u'Smoke (1995)', u'Walk in the Clouds, A (1995)', u'Billy Madison (1995)', u'Babysitter, The (1995)', u'Cure, The (1995)', u'Hunted, The (1995)', u'I.Q. (1994)', u'Little Odessa (1994)', u'Milk Money (1994)', u'Once Were Warriors (1994)', u\"Pyromaniac's Love Story, A (1995)\", u'Stuart Saves His Family (1995)', u'Walking Dead, The (1995)', u\"Muriel's Wedding (1994)\", u'Corrina, Corrina (1994)', u'Crow, The (1994)', u\"Jason's Lyric (1994)\", u'Mirage (1995)', u'Blue Chips (1994)', u'Dangerous Game (1993)', u'Getaway, The (1994)', u'Hot Shots! Part Deux (1993)', u\"I'll Do Anything (1994)\", u'Made in America (1993)', u'Manhattan Murder Mystery (1993)', u'Naked (1993)', u'Philadelphia (1993)', u'Rising Sun (1993)', u'Nightmare Before Christmas, The (1993)', u'Kika (1993)', u'Spanking the Monkey (1994)', u'Celluloid Closet, The (1995)', u'Fargo (1996)', u'Heavy Metal (1981)', u'Primal Fear (1996)', u'Denise Calls Up (1995)', u'Family Thing, A (1996)', u'James and the Giant Peach (1996)', u'Solo (1996)', u'Substitute, The (1996)', u'Barb Wire (1996)', u'Gold Diggers: The Secret of Bear Mountain (1995)', u'Maya Lin: A Strong Clear Vision (1994)', u'I Shot Andy Warhol (1996)', u'Lone Star (1996)', u'Kazaam (1996)', u'Larger Than Life (1996)']\n",
      "19 [u'Goofy Movie, A (1995)']\n",
      "18 [u'Superweib, Das (1996)']\n",
      "48 [u'Faster Pussycat! Kill! Kill! (1965)']\n",
      "49 [u'When Night Is Falling (1995)']\n",
      "46 [u'Multiplicity (1996)']\n",
      "47 [u'Radioland Murders (1994)']\n",
      "44 [u'Run of the Country, The (1995)']\n",
      "45 [u'Castle Freak (1995)']\n",
      "42 [u'Germinal (1993)']\n",
      "43 [u'Bhaji on the Beach (1993)']\n",
      "40 [u'Heavenly Creatures (1994)']\n",
      "41 [u'Romeo Is Bleeding (1993)']\n",
      "1 [u'Suture (1993)', u'Client, The (1994)', u'All Dogs Go to Heaven 2 (1996)']\n",
      "5 [u'Highlander III: The Sorcerer (a.k.a. Highlander: The Final Dimension) (1994)']\n",
      "9 [u'Taxi Driver (1976)']\n",
      "77 [u'Boomerang (1992)']\n",
      "76 [u'When a Man Loves a Woman (1994)']\n",
      "75 [u'Aristocats, The (1970)']\n",
      "74 [u'Toy Story (1995)', u'Grumpier Old Men (1995)', u'Heat (1995)', u'Sudden Death (1995)', u'GoldenEye (1995)', u'American President, The (1995)', u'Dracula: Dead and Loving It (1995)', u'Balto (1995)', u'Nixon (1995)', u'Casino (1995)', u'Now and Then (1995)', u'Persuasion (1995)', u'City of Lost Children, The (Cit\\xc3\\xa9 des enfants perdus, La) (1995)', u'Babe (1995)', u'Dead Man Walking (1995)', u'It Takes Two (1995)', u'Mortal Kombat (1995)', u'How to Make an American Quilt (1995)', u'Seven (a.k.a. Se7en) (1995)', u'Usual Suspects, The (1995)', u'Lamerica (1994)', u'Big Green, The (1995)', u'Georgia (1995)', u'Home for the Holidays (1995)', u'Eye for an Eye (1996)', u\"Mr. Holland's Opus (1995)\", u\"Don't Be a Menace to South Central While Drinking Your Juice in the Hood (1996)\", u'Friday (1995)', u'From Dusk Till Dawn (1996)', u'Screamers (1995)', u'Juror, The (1996)', u\"Things to Do in Denver When You're Dead (1995)\", u'Last Summer in the Hamptons (1995)', u'White Squall (1996)', u'Unforgettable (1996)', u'Bridges of Madison County, The (1995)', u'Rumble in the Bronx (Hont faan kui) (1995)', u'Anne Frank Remembered (1995)', u\"Young Poisoner's Handbook, The (1995)\", u'Steal Big, Steal Little (1995)', u\"Star Maker, The (Uomo delle stelle, L') (1995)\", u'NeverEnding Story III, The (1994)', u'Pie in the Sky (1996)', u'Angela (1995)', u'Birdcage, The (1996)', u'Basketball Diaries, The (1995)', u'Amateur (1994)', u'Rob Roy (1995)', u'Addiction, The (1995)', u'Batman Forever (1995)', u'Beyond Rangoon (1995)', u'Clockers (1995)', u'Congo (1995)', u'Crimson Tide (1995)', u'Crumb (1994)', u'Feast of July (1995)', u'Judge Dredd (1995)', u'Living in Oblivion (1995)', u'Love & Human Remains (1993)', u'Mallrats (1995)', u'Party Girl (1995)', u'Prophecy, The (1995)', u'Scarlet Letter, The (1995)', u'Showgirls (1995)', u'Species (1995)', u'Total Eclipse (1995)', u'To Wong Foo, Thanks for Everything! Julie Newmar (1995)', u'Under Siege 2: Dark Territory (1995)', u'Unzipped (1995)', u\"White Man's Burden (1995)\", u'Before the Rain (Pred dozhdot) (1994)', u'Before Sunrise (1995)', u'Boys on the Side (1995)', u'Circle of Friends (1995)', u'Don Juan DeMarco (1995)', u'Death and the Maiden (1994)', u'Dolores Claiborne (1995)', u'Dumb & Dumber (Dumb and Dumber) (1994)', u'Exotica (1994)', u'Exit to Eden (1994)', u'Ed Wood (1994)', u'French Kiss (1995)', u'Forget Paris (1995)', u'Farinelli: il castrato (1994)', u'The Glass Shield (1994)', u'Houseguest (1994)', u'Immortal Beloved (1994)', u'Interview with the Vampire: The Vampire Chronicles (1994)', u'Jefferson in Paris (1995)', u'Junior (1994)', u\"Kid in King Arthur's Court, A (1995)\", u\"Enfer, L' (1994)\", u'Like Water for Chocolate (Como agua para chocolate) (1992)', u\"Mary Shelley's Frankenstein (Frankenstein) (1994)\", u'Beyond Bedlam (1993)', u'Nina Takes a Lover (1994)', u'Natural Born Killers (1994)', u'Only You (1994)', u'Outbreak (1995)', u'L\\xc3\\xa9on: The Professional (a.k.a. The Professional) (L\\xc3\\xa9on) (1994)', u'Pulp Fiction (1994)', u'Quiz Show (1994)', u'Quick and the Dead, The (1995)', u'Ready to Wear (Pret-A-Porter) (1994)', u'Three Colors: Blue (Trois couleurs: Bleu) (1993)', u'Three Colors: White (Trzy kolory: Bialy) (1994)', u'Red Firecracker, Green Firecracker (Pao Da Shuang Deng) (1994)', u'Swan Princess, The (1994)', u'Shallow Grave (1994)', u'Swimming with Sharks (1995)', u'Sum of Us, The (1994)', u'Tank Girl (1995)', u'Tales from the Hood (1995)', u'Vanya on 42nd Street (1994)', u'Underneath (1995)', u'While You Were Sleeping (1995)', u'Ace Ventura: Pet Detective (1994)', u'Bullets Over Broadway (1994)', u'Clear and Present Danger (1994)', u'Flintstones, The (1994)', u'Forrest Gump (1994)', u'Four Weddings and a Funeral (1994)', u'I Love Trouble (1994)', u'It Could Happen to You (1994)', u'Jungle Book, The (1994)', u'Little Buddha (1993)', u\"Wes Craven's New Nightmare (Nightmare on Elm Street Part 7: Freddy's Finale, A) (1994)\", u'Mask, The (1994)', u'Mrs. Parker and the Vicious Circle (1994)', u'Naked Gun 33 1/3: The Final Insult (1994)', u'Paper, The (1994)', u'Reality Bites (1994)', u'Safe Passage (1994)', u'River Wild, The (1994)', u'Wolf (1994)', u'Wyatt Earp (1994)', u'Bad Company (1995)', u'Boys Life (1995)', u'Street Fighter (1994)', u'In the Mouth of Madness (1995)', u'8 Seconds (1994)', u'Airheads (1994)', u'Air Up There, The (1994)', u'Another Stakeout (1993)', u'Barcelona (1994)', u'Black Beauty (1994)', u'Blown Away (1994)', u'Blue Sky (1994)', u'Body Snatchers (1993)', u\"Carlito's Way (1993)\", u'Color of Night (1994)', u'Dazed and Confused (1993)', u'Demolition Man (1993)', u'Endless Summer 2, The (1994)', u'Fatal Instinct (1993)', u'Favor, The (1994)', u'Fearless (1993)', u'Fear of a Black Hat (1994)', u'For Love or Money (1993)', u'Firm, The (1993)', u'Fresh (1994)', u'Getting Even with Dad (1994)', u'Go Fish (1994)', u'Heaven & Earth (1993)', u'House Party 3 (1994)', u'In the Army Now (1994)', u'In the Name of the Father (1993)', u'Judgment Night (1993)', u'Kalifornia (1993)', u'Lightning Jack (1994)', u'M. Butterfly (1993)', u'Malice (1993)', u'In the Realm of the Senses (Ai no corrida) (1976)', u'What Happened Was... (1994)', u'Much Ado About Nothing (1993)', u'Mr. Jones (1993)', u'Mrs. Doubtfire (1993)', u'No Escape (1994)', u'Orlando (1992)', u'Remains of the Day, The (1993)', u'Road to Wellville, The (1994)', u'Robin Hood: Men in Tights (1993)', u'Romper Stomper (1992)', u'Ruby in Paradise (1993)', u'Scout, The (1994)', u'Secret Garden, The (1993)', u'Serial Mom (1994)', u'Sirens (1994)', u'Sliver (1993)', u'So I Married an Axe Murderer (1993)', u'Striking Distance (1993)', u'Surviving the Game (1994)', u'Terminal Velocity (1994)', u'Thirty-Two Short Films About Glenn Gould (1993)', u'Trial by Jury (1994)', u'True Romance (1993)', u'Welcome to the Dollhouse (1995)', u'Chasers (1994)', u'Little Big League (1994)', u'Wedding Gift, The (1994)', u'Ciao, Professore! (Io speriamo che me la cavo) (1992)', u'Andre (1994)', u'Dances with Wolves (1990)', u'Silence of the Lambs, The (1991)', u'Love and a .45 (1994)', u'Hellraiser: Bloodline (1996)', u'Pallbearer, The (1996)', u'Jane Eyre (1996)', u'Flower of My Secret, The (La flor de mi secreto) (1995)', u'Ed (1996)', u'Thin Line Between Love and Hate, A (1996)', u'Carried Away (1996)', u'Land and Freedom (Tierra y libertad) (1995)', u'Sgt. Bilko (1996)', u'Jack and Sarah (1995)', u'Dragonheart (1996)', u'Eddie (1996)', u'Fear (1996)', u'Faithful (1996)', u'Bloodsport 2 (a.k.a. Bloodsport II: The Next Kumite) (1996)', u'Mystery Science Theater 3000: The Movie (1996)', u'Barbarella (1968)', u'Some Folks Call It a Sling Blade (1993)', u'Alphaville (Alphaville, une \\xc3\\xa9trange aventure de Lemmy Caution) (1965)', u'Coup de torchon (Clean Slate) (1981)', u\"It's My Party (1996)\", u'Butterfly Kiss (1995)', u'Truth About Cats & Dogs, The (1996)', u'Oliver & Company (1988)', u'Dead Man (1995)', u'Visitors, The (Visiteurs, Les) (1993)', u'Halfmoon (Paul Bowles - Halbmond) (1995)', u'Haunted World of Edward D. Wood Jr., The (1996)', u'Craft, The (1996)', u'Great White Hype, The (1996)', u'Cold Comfort Farm (1995)', u'Cemetery Man (Dellamorte Dellamore) (1994)', u'Twister (1996)', u'Thinner (1996)', u'Stupids, The (1996)', u'Arrival, The (1996)', u'Month by the Lake, A (1995)', u'Kim (1950)', u'Carmen Miranda: Bananas Is My Business (1994)', u'Ashes of Time (Dung che sai duk) (1994)', u'Stalingrad (1993)', u'Phantom, The (1996)', u'Heavy (1995)', u'Jack (1996)', u'Spirits of the Dead (1968)', u'Trainspotting (1996)', u\"'Til There Was You (1997)\", u'Independence Day (a.k.a. ID4) (1996)', u'Eraser (1996)', u'Nutty Professor, The (1996)', u'Frighteners, The (1996)', u'Harriet the Spy (1996)', u\"She's the One (1996)\", u'American Buffalo (1996)', u'Two Deaths (1995)', u'Very Brady Sequel, A (1996)', u'Death in the Garden (Mort en ce jardin, La) (1956)']\n",
      "73 [u'Boys (1996)']\n",
      "72 [u'Apollo 13 (1995)']\n",
      "71 [u'Secret of Roan Inish, The (1994)']\n",
      "70 [u'Alaska (1996)']\n",
      "79 [u'Fugitive, The (1993)']\n",
      "78 [u'Secret Adventures of Tom Thumb, The (1993)']\n"
     ]
    }
   ],
   "source": [
    "for cluster, movies_index in dict_x.items():\n",
    "    print (cluster), [get_movie(matrix_movies(index)) for index in movies_index ]"
   ]
  },
  {
   "cell_type": "code",
   "execution_count": null,
   "metadata": {
    "collapsed": true
   },
   "outputs": [],
   "source": []
  }
 ],
 "metadata": {
  "kernelspec": {
   "display_name": "Python 2",
   "language": "python",
   "name": "python2"
  },
  "language_info": {
   "codemirror_mode": {
    "name": "ipython",
    "version": 2
   },
   "file_extension": ".py",
   "mimetype": "text/x-python",
   "name": "python",
   "nbconvert_exporter": "python",
   "pygments_lexer": "ipython2",
   "version": "2.7.10"
  }
 },
 "nbformat": 4,
 "nbformat_minor": 0
}
